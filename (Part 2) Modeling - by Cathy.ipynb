{
 "cells": [
  {
   "cell_type": "code",
   "execution_count": 2,
   "id": "71327912-2512-4ce8-b204-86e875b3f73c",
   "metadata": {},
   "outputs": [
    {
     "name": "stdout",
     "output_type": "stream",
     "text": [
      "Collecting xgboost\n",
      "  Downloading xgboost-1.7.2-py3-none-macosx_10_15_x86_64.macosx_11_0_x86_64.macosx_12_0_x86_64.whl (1.8 MB)\n",
      "\u001b[2K     \u001b[90m━━━━━━━━━━━━━━━━━━━━━━━━━━━━━━━━━━━━━━━━\u001b[0m \u001b[32m1.8/1.8 MB\u001b[0m \u001b[31m9.5 MB/s\u001b[0m eta \u001b[36m0:00:00\u001b[0m:00:01\u001b[0m00:01\u001b[0m\n",
      "\u001b[?25hRequirement already satisfied: scipy in /opt/anaconda3/lib/python3.9/site-packages (from xgboost) (1.7.3)\n",
      "Requirement already satisfied: numpy in /opt/anaconda3/lib/python3.9/site-packages (from xgboost) (1.22.3)\n",
      "Installing collected packages: xgboost\n",
      "Successfully installed xgboost-1.7.2\n"
     ]
    }
   ],
   "source": [
    "! pip install xgboost"
   ]
  },
  {
   "cell_type": "code",
   "execution_count": 1,
   "id": "f836a083",
   "metadata": {},
   "outputs": [],
   "source": [
    "import pandas as pd \n",
    "import numpy as np\n",
    "import seaborn as sns\n",
    "import matplotlib.pyplot as plt\n",
    "\n",
    "from sklearn.model_selection import train_test_split, cross_val_score\n",
    "from sklearn.linear_model import LinearRegression\n",
    "from sklearn.preprocessing import StandardScaler, PolynomialFeatures\n",
    "from xgboost import XGBRegressor \n",
    "from sklearn.tree import DecisionTreeRegressor\n",
    "from sklearn.impute import SimpleImputer\n",
    "from sklearn.preprocessing import MinMaxScaler, StandardScaler\n",
    "from sklearn.model_selection import GridSearchCV\n",
    "from sklearn.model_selection import train_test_split\n",
    "from sklearn.metrics import mean_squared_error, mean_absolute_error\n",
    "from sklearn.ensemble import BaggingRegressor, AdaBoostRegressor, RandomForestRegressor\n",
    "from sklearn.preprocessing import PolynomialFeatures\n",
    "from sklearn.feature_selection import RFE \n",
    "from sklearn.model_selection import train_test_split\n",
    "from sklearn.pipeline import make_pipeline\n",
    "from sklearn.preprocessing import StandardScaler\n",
    "from sklearn.linear_model import Lasso, LassoCV\n",
    "from sklearn.linear_model import Ridge, RidgeCV\n",
    "\n",
    "import warnings\n",
    "warnings.filterwarnings('ignore')"
   ]
  },
  {
   "cell_type": "code",
   "execution_count": 3,
   "id": "90f39099",
   "metadata": {},
   "outputs": [],
   "source": [
    "#Read in the cleaned csv\n",
    "cleaned_df = pd.read_csv('Data/filtered_df.csv')"
   ]
  },
  {
   "cell_type": "code",
   "execution_count": 4,
   "id": "8b6bfd53",
   "metadata": {},
   "outputs": [
    {
     "data": {
      "text/html": [
       "<div>\n",
       "<style scoped>\n",
       "    .dataframe tbody tr th:only-of-type {\n",
       "        vertical-align: middle;\n",
       "    }\n",
       "\n",
       "    .dataframe tbody tr th {\n",
       "        vertical-align: top;\n",
       "    }\n",
       "\n",
       "    .dataframe thead th {\n",
       "        text-align: right;\n",
       "    }\n",
       "</style>\n",
       "<table border=\"1\" class=\"dataframe\">\n",
       "  <thead>\n",
       "    <tr style=\"text-align: right;\">\n",
       "      <th></th>\n",
       "      <th>Unnamed: 0</th>\n",
       "      <th>Date</th>\n",
       "      <th>Location</th>\n",
       "      <th>Demographic_Category</th>\n",
       "      <th>census</th>\n",
       "      <th>Not_Vaccinated</th>\n",
       "      <th>Administered_Dose1</th>\n",
       "      <th>Series_Complete_Yes</th>\n",
       "    </tr>\n",
       "  </thead>\n",
       "  <tbody>\n",
       "    <tr>\n",
       "      <th>0</th>\n",
       "      <td>882360</td>\n",
       "      <td>2021-12-30</td>\n",
       "      <td>1</td>\n",
       "      <td>1</td>\n",
       "      <td>52055.0</td>\n",
       "      <td>3116.0</td>\n",
       "      <td>48939.0</td>\n",
       "      <td>42161.0</td>\n",
       "    </tr>\n",
       "    <tr>\n",
       "      <th>1</th>\n",
       "      <td>882361</td>\n",
       "      <td>2021-12-30</td>\n",
       "      <td>2</td>\n",
       "      <td>1</td>\n",
       "      <td>481323.0</td>\n",
       "      <td>123150.0</td>\n",
       "      <td>358173.0</td>\n",
       "      <td>262023.0</td>\n",
       "    </tr>\n",
       "    <tr>\n",
       "      <th>2</th>\n",
       "      <td>882362</td>\n",
       "      <td>2021-12-30</td>\n",
       "      <td>35</td>\n",
       "      <td>26</td>\n",
       "      <td>135005.0</td>\n",
       "      <td>103698.0</td>\n",
       "      <td>31307.0</td>\n",
       "      <td>20149.0</td>\n",
       "    </tr>\n",
       "    <tr>\n",
       "      <th>3</th>\n",
       "      <td>882363</td>\n",
       "      <td>2021-12-30</td>\n",
       "      <td>36</td>\n",
       "      <td>26</td>\n",
       "      <td>133254.0</td>\n",
       "      <td>120857.0</td>\n",
       "      <td>12397.0</td>\n",
       "      <td>6750.0</td>\n",
       "    </tr>\n",
       "    <tr>\n",
       "      <th>4</th>\n",
       "      <td>882364</td>\n",
       "      <td>2021-12-30</td>\n",
       "      <td>37</td>\n",
       "      <td>28</td>\n",
       "      <td>526217.0</td>\n",
       "      <td>105711.0</td>\n",
       "      <td>420506.0</td>\n",
       "      <td>358267.0</td>\n",
       "    </tr>\n",
       "    <tr>\n",
       "      <th>...</th>\n",
       "      <td>...</td>\n",
       "      <td>...</td>\n",
       "      <td>...</td>\n",
       "      <td>...</td>\n",
       "      <td>...</td>\n",
       "      <td>...</td>\n",
       "      <td>...</td>\n",
       "      <td>...</td>\n",
       "    </tr>\n",
       "    <tr>\n",
       "      <th>77395</th>\n",
       "      <td>959755</td>\n",
       "      <td>2021-12-01</td>\n",
       "      <td>45</td>\n",
       "      <td>11</td>\n",
       "      <td>10184.0</td>\n",
       "      <td>10184.0</td>\n",
       "      <td>0.0</td>\n",
       "      <td>0.0</td>\n",
       "    </tr>\n",
       "    <tr>\n",
       "      <th>77396</th>\n",
       "      <td>959756</td>\n",
       "      <td>2021-12-01</td>\n",
       "      <td>17</td>\n",
       "      <td>46</td>\n",
       "      <td>3005.0</td>\n",
       "      <td>795.0</td>\n",
       "      <td>2210.0</td>\n",
       "      <td>2075.0</td>\n",
       "    </tr>\n",
       "    <tr>\n",
       "      <th>77397</th>\n",
       "      <td>959757</td>\n",
       "      <td>2021-12-01</td>\n",
       "      <td>50</td>\n",
       "      <td>46</td>\n",
       "      <td>6524.0</td>\n",
       "      <td>1830.0</td>\n",
       "      <td>4694.0</td>\n",
       "      <td>4018.0</td>\n",
       "    </tr>\n",
       "    <tr>\n",
       "      <th>77398</th>\n",
       "      <td>959758</td>\n",
       "      <td>2021-12-01</td>\n",
       "      <td>14</td>\n",
       "      <td>9</td>\n",
       "      <td>40789796.0</td>\n",
       "      <td>8044258.0</td>\n",
       "      <td>32745538.0</td>\n",
       "      <td>29013930.0</td>\n",
       "    </tr>\n",
       "    <tr>\n",
       "      <th>77399</th>\n",
       "      <td>959759</td>\n",
       "      <td>2021-12-01</td>\n",
       "      <td>59</td>\n",
       "      <td>9</td>\n",
       "      <td>8051.0</td>\n",
       "      <td>3155.0</td>\n",
       "      <td>4896.0</td>\n",
       "      <td>4462.0</td>\n",
       "    </tr>\n",
       "  </tbody>\n",
       "</table>\n",
       "<p>77400 rows × 8 columns</p>\n",
       "</div>"
      ],
      "text/plain": [
       "       Unnamed: 0        Date  Location  Demographic_Category      census  \\\n",
       "0          882360  2021-12-30         1                     1     52055.0   \n",
       "1          882361  2021-12-30         2                     1    481323.0   \n",
       "2          882362  2021-12-30        35                    26    135005.0   \n",
       "3          882363  2021-12-30        36                    26    133254.0   \n",
       "4          882364  2021-12-30        37                    28    526217.0   \n",
       "...           ...         ...       ...                   ...         ...   \n",
       "77395      959755  2021-12-01        45                    11     10184.0   \n",
       "77396      959756  2021-12-01        17                    46      3005.0   \n",
       "77397      959757  2021-12-01        50                    46      6524.0   \n",
       "77398      959758  2021-12-01        14                     9  40789796.0   \n",
       "77399      959759  2021-12-01        59                     9      8051.0   \n",
       "\n",
       "       Not_Vaccinated  Administered_Dose1  Series_Complete_Yes  \n",
       "0              3116.0             48939.0              42161.0  \n",
       "1            123150.0            358173.0             262023.0  \n",
       "2            103698.0             31307.0              20149.0  \n",
       "3            120857.0             12397.0               6750.0  \n",
       "4            105711.0            420506.0             358267.0  \n",
       "...               ...                 ...                  ...  \n",
       "77395         10184.0                 0.0                  0.0  \n",
       "77396           795.0              2210.0               2075.0  \n",
       "77397          1830.0              4694.0               4018.0  \n",
       "77398       8044258.0          32745538.0           29013930.0  \n",
       "77399          3155.0              4896.0               4462.0  \n",
       "\n",
       "[77400 rows x 8 columns]"
      ]
     },
     "execution_count": 4,
     "metadata": {},
     "output_type": "execute_result"
    }
   ],
   "source": [
    "#Inspect the columns and rows\n",
    "cleaned_df"
   ]
  },
  {
   "cell_type": "code",
   "execution_count": 5,
   "id": "e6b78d49",
   "metadata": {},
   "outputs": [],
   "source": [
    "# Drop unneccessary column\n",
    "cleaned_df.drop(['Unnamed: 0'], axis = 1, inplace = True)"
   ]
  },
  {
   "cell_type": "code",
   "execution_count": 6,
   "id": "f5e2bae8",
   "metadata": {},
   "outputs": [
    {
     "data": {
      "text/plain": [
       "Index(['Date', 'Location', 'Demographic_Category', 'census', 'Not_Vaccinated',\n",
       "       'Administered_Dose1', 'Series_Complete_Yes'],\n",
       "      dtype='object')"
      ]
     },
     "execution_count": 6,
     "metadata": {},
     "output_type": "execute_result"
    }
   ],
   "source": [
    "#Re-inspect the columns once again\n",
    "cleaned_df.columns"
   ]
  },
  {
   "cell_type": "code",
   "execution_count": 7,
   "id": "688a7011",
   "metadata": {},
   "outputs": [
    {
     "data": {
      "text/plain": [
       "Date                     object\n",
       "Location                  int64\n",
       "Demographic_Category      int64\n",
       "census                  float64\n",
       "Not_Vaccinated          float64\n",
       "Administered_Dose1      float64\n",
       "Series_Complete_Yes     float64\n",
       "dtype: object"
      ]
     },
     "execution_count": 7,
     "metadata": {},
     "output_type": "execute_result"
    }
   ],
   "source": [
    "#Check the data types of each column\n",
    "cleaned_df.dtypes"
   ]
  },
  {
   "cell_type": "code",
   "execution_count": 8,
   "id": "c31c3f1b",
   "metadata": {},
   "outputs": [],
   "source": [
    "# Transforming the Date column from object to float\n",
    "cleaned_df['Date'] = pd.to_numeric(cleaned_df['Date'],errors='coerce')"
   ]
  },
  {
   "cell_type": "code",
   "execution_count": 9,
   "id": "70946c26",
   "metadata": {},
   "outputs": [
    {
     "data": {
      "text/plain": [
       "Date                    77400\n",
       "Location                    0\n",
       "Demographic_Category        0\n",
       "census                   3600\n",
       "Not_Vaccinated           3600\n",
       "Administered_Dose1          0\n",
       "Series_Complete_Yes         0\n",
       "dtype: int64"
      ]
     },
     "execution_count": 9,
     "metadata": {},
     "output_type": "execute_result"
    }
   ],
   "source": [
    "# Check if there are any missing data\n",
    "cleaned_df.isna().sum()"
   ]
  },
  {
   "cell_type": "code",
   "execution_count": 10,
   "id": "8b85d578",
   "metadata": {},
   "outputs": [
    {
     "data": {
      "text/plain": [
       "Date                    float64\n",
       "Location                  int64\n",
       "Demographic_Category      int64\n",
       "census                  float64\n",
       "Not_Vaccinated          float64\n",
       "Administered_Dose1      float64\n",
       "Series_Complete_Yes     float64\n",
       "dtype: object"
      ]
     },
     "execution_count": 10,
     "metadata": {},
     "output_type": "execute_result"
    }
   ],
   "source": [
    "#Check the data types again\n",
    "cleaned_df.dtypes"
   ]
  },
  {
   "cell_type": "code",
   "execution_count": 11,
   "id": "8f55251a",
   "metadata": {},
   "outputs": [
    {
     "data": {
      "text/plain": [
       "(77400, 7)"
      ]
     },
     "execution_count": 11,
     "metadata": {},
     "output_type": "execute_result"
    }
   ],
   "source": [
    "#Check the shape again\n",
    "cleaned_df.shape"
   ]
  },
  {
   "cell_type": "markdown",
   "id": "2c040dc5",
   "metadata": {},
   "source": [
    "# Modeling \n",
    "### Using the pipeline that encompasses standardscaler, polynomialfeatures, RFE and Ridge regression"
   ]
  },
  {
   "cell_type": "code",
   "execution_count": 12,
   "id": "36456562",
   "metadata": {},
   "outputs": [],
   "source": [
    "# Selecting the features to be put into the model\n",
    "features = cleaned_df[['Date', 'census', 'Not_Vaccinated',\n",
    "                       'Administered_Dose1', 'Series_Complete_Yes', 'Location', 'Demographic_Category']]\n",
    "\n",
    "#Set our X (features to be considered) and y (The target column that we want to predict)\n",
    "X = features\n",
    "y = cleaned_df['Series_Complete_Yes']"
   ]
  },
  {
   "cell_type": "code",
   "execution_count": 13,
   "id": "fa3a97ed",
   "metadata": {},
   "outputs": [],
   "source": [
    "# Set up the pipeline\n",
    "pipe = make_pipeline(StandardScaler(),PolynomialFeatures(), RFE(Ridge()), Ridge(max_iter=10_000))"
   ]
  },
  {
   "cell_type": "code",
   "execution_count": 14,
   "id": "45058986",
   "metadata": {},
   "outputs": [],
   "source": [
    "#Train, test split\n",
    "X_train, X_test, y_train, y_test  = train_test_split(X, y, test_size=0.33, random_state=42)"
   ]
  },
  {
   "cell_type": "code",
   "execution_count": 15,
   "id": "ce742e4e",
   "metadata": {},
   "outputs": [
    {
     "data": {
      "text/plain": [
       "Date                    77400\n",
       "census                   3600\n",
       "Not_Vaccinated           3600\n",
       "Administered_Dose1          0\n",
       "Series_Complete_Yes         0\n",
       "Location                    0\n",
       "Demographic_Category        0\n",
       "dtype: int64"
      ]
     },
     "execution_count": 15,
     "metadata": {},
     "output_type": "execute_result"
    }
   ],
   "source": [
    "#Double check to make sure if there are any missing values\n",
    "X.isna().sum()"
   ]
  },
  {
   "cell_type": "code",
   "execution_count": 16,
   "id": "9b4da4c7",
   "metadata": {},
   "outputs": [],
   "source": [
    "#Fill in the missing values in the training set\n",
    "my_imputer = SimpleImputer(missing_values = np.nan, strategy ='constant', fill_value=0)\n",
    " \n",
    "# Fitting the data to the imputer object\n",
    "imputed_X = my_imputer.fit_transform(X_train)\n",
    "imputed_X_test = my_imputer.transform(X_test)"
   ]
  },
  {
   "cell_type": "code",
   "execution_count": 17,
   "id": "c62c6d9c",
   "metadata": {},
   "outputs": [
    {
     "data": {
      "text/plain": [
       "0"
      ]
     },
     "execution_count": 17,
     "metadata": {},
     "output_type": "execute_result"
    }
   ],
   "source": [
    "#Double check to make sure if there are any missing values\n",
    "y.isna().sum()"
   ]
  },
  {
   "cell_type": "code",
   "execution_count": 18,
   "id": "0c1a6206",
   "metadata": {},
   "outputs": [
    {
     "data": {
      "text/plain": [
       "(51858, 7)"
      ]
     },
     "execution_count": 18,
     "metadata": {},
     "output_type": "execute_result"
    }
   ],
   "source": [
    "#Check the train.shape one more time\n",
    "imputed_X.shape"
   ]
  },
  {
   "cell_type": "code",
   "execution_count": 19,
   "id": "ff1f4ae8",
   "metadata": {},
   "outputs": [
    {
     "data": {
      "text/plain": [
       "(25542, 7)"
      ]
     },
     "execution_count": 19,
     "metadata": {},
     "output_type": "execute_result"
    }
   ],
   "source": [
    "#Check the test.shape one more time\n",
    "imputed_X_test.shape"
   ]
  },
  {
   "cell_type": "code",
   "execution_count": 20,
   "id": "ebfc8159",
   "metadata": {},
   "outputs": [
    {
     "data": {
      "text/html": [
       "<style>#sk-container-id-1 {color: black;background-color: white;}#sk-container-id-1 pre{padding: 0;}#sk-container-id-1 div.sk-toggleable {background-color: white;}#sk-container-id-1 label.sk-toggleable__label {cursor: pointer;display: block;width: 100%;margin-bottom: 0;padding: 0.3em;box-sizing: border-box;text-align: center;}#sk-container-id-1 label.sk-toggleable__label-arrow:before {content: \"▸\";float: left;margin-right: 0.25em;color: #696969;}#sk-container-id-1 label.sk-toggleable__label-arrow:hover:before {color: black;}#sk-container-id-1 div.sk-estimator:hover label.sk-toggleable__label-arrow:before {color: black;}#sk-container-id-1 div.sk-toggleable__content {max-height: 0;max-width: 0;overflow: hidden;text-align: left;background-color: #f0f8ff;}#sk-container-id-1 div.sk-toggleable__content pre {margin: 0.2em;color: black;border-radius: 0.25em;background-color: #f0f8ff;}#sk-container-id-1 input.sk-toggleable__control:checked~div.sk-toggleable__content {max-height: 200px;max-width: 100%;overflow: auto;}#sk-container-id-1 input.sk-toggleable__control:checked~label.sk-toggleable__label-arrow:before {content: \"▾\";}#sk-container-id-1 div.sk-estimator input.sk-toggleable__control:checked~label.sk-toggleable__label {background-color: #d4ebff;}#sk-container-id-1 div.sk-label input.sk-toggleable__control:checked~label.sk-toggleable__label {background-color: #d4ebff;}#sk-container-id-1 input.sk-hidden--visually {border: 0;clip: rect(1px 1px 1px 1px);clip: rect(1px, 1px, 1px, 1px);height: 1px;margin: -1px;overflow: hidden;padding: 0;position: absolute;width: 1px;}#sk-container-id-1 div.sk-estimator {font-family: monospace;background-color: #f0f8ff;border: 1px dotted black;border-radius: 0.25em;box-sizing: border-box;margin-bottom: 0.5em;}#sk-container-id-1 div.sk-estimator:hover {background-color: #d4ebff;}#sk-container-id-1 div.sk-parallel-item::after {content: \"\";width: 100%;border-bottom: 1px solid gray;flex-grow: 1;}#sk-container-id-1 div.sk-label:hover label.sk-toggleable__label {background-color: #d4ebff;}#sk-container-id-1 div.sk-serial::before {content: \"\";position: absolute;border-left: 1px solid gray;box-sizing: border-box;top: 0;bottom: 0;left: 50%;z-index: 0;}#sk-container-id-1 div.sk-serial {display: flex;flex-direction: column;align-items: center;background-color: white;padding-right: 0.2em;padding-left: 0.2em;position: relative;}#sk-container-id-1 div.sk-item {position: relative;z-index: 1;}#sk-container-id-1 div.sk-parallel {display: flex;align-items: stretch;justify-content: center;background-color: white;position: relative;}#sk-container-id-1 div.sk-item::before, #sk-container-id-1 div.sk-parallel-item::before {content: \"\";position: absolute;border-left: 1px solid gray;box-sizing: border-box;top: 0;bottom: 0;left: 50%;z-index: -1;}#sk-container-id-1 div.sk-parallel-item {display: flex;flex-direction: column;z-index: 1;position: relative;background-color: white;}#sk-container-id-1 div.sk-parallel-item:first-child::after {align-self: flex-end;width: 50%;}#sk-container-id-1 div.sk-parallel-item:last-child::after {align-self: flex-start;width: 50%;}#sk-container-id-1 div.sk-parallel-item:only-child::after {width: 0;}#sk-container-id-1 div.sk-dashed-wrapped {border: 1px dashed gray;margin: 0 0.4em 0.5em 0.4em;box-sizing: border-box;padding-bottom: 0.4em;background-color: white;}#sk-container-id-1 div.sk-label label {font-family: monospace;font-weight: bold;display: inline-block;line-height: 1.2em;}#sk-container-id-1 div.sk-label-container {text-align: center;}#sk-container-id-1 div.sk-container {/* jupyter's `normalize.less` sets `[hidden] { display: none; }` but bootstrap.min.css set `[hidden] { display: none !important; }` so we also need the `!important` here to be able to override the default hidden behavior on the sphinx rendered scikit-learn.org. See: https://github.com/scikit-learn/scikit-learn/issues/21755 */display: inline-block !important;position: relative;}#sk-container-id-1 div.sk-text-repr-fallback {display: none;}</style><div id=\"sk-container-id-1\" class=\"sk-top-container\"><div class=\"sk-text-repr-fallback\"><pre>Pipeline(steps=[(&#x27;standardscaler&#x27;, StandardScaler()),\n",
       "                (&#x27;polynomialfeatures&#x27;, PolynomialFeatures()),\n",
       "                (&#x27;rfe&#x27;, RFE(estimator=Ridge())),\n",
       "                (&#x27;ridge&#x27;, Ridge(max_iter=10000))])</pre><b>In a Jupyter environment, please rerun this cell to show the HTML representation or trust the notebook. <br />On GitHub, the HTML representation is unable to render, please try loading this page with nbviewer.org.</b></div><div class=\"sk-container\" hidden><div class=\"sk-item sk-dashed-wrapped\"><div class=\"sk-label-container\"><div class=\"sk-label sk-toggleable\"><input class=\"sk-toggleable__control sk-hidden--visually\" id=\"sk-estimator-id-1\" type=\"checkbox\" ><label for=\"sk-estimator-id-1\" class=\"sk-toggleable__label sk-toggleable__label-arrow\">Pipeline</label><div class=\"sk-toggleable__content\"><pre>Pipeline(steps=[(&#x27;standardscaler&#x27;, StandardScaler()),\n",
       "                (&#x27;polynomialfeatures&#x27;, PolynomialFeatures()),\n",
       "                (&#x27;rfe&#x27;, RFE(estimator=Ridge())),\n",
       "                (&#x27;ridge&#x27;, Ridge(max_iter=10000))])</pre></div></div></div><div class=\"sk-serial\"><div class=\"sk-item\"><div class=\"sk-estimator sk-toggleable\"><input class=\"sk-toggleable__control sk-hidden--visually\" id=\"sk-estimator-id-2\" type=\"checkbox\" ><label for=\"sk-estimator-id-2\" class=\"sk-toggleable__label sk-toggleable__label-arrow\">StandardScaler</label><div class=\"sk-toggleable__content\"><pre>StandardScaler()</pre></div></div></div><div class=\"sk-item\"><div class=\"sk-estimator sk-toggleable\"><input class=\"sk-toggleable__control sk-hidden--visually\" id=\"sk-estimator-id-3\" type=\"checkbox\" ><label for=\"sk-estimator-id-3\" class=\"sk-toggleable__label sk-toggleable__label-arrow\">PolynomialFeatures</label><div class=\"sk-toggleable__content\"><pre>PolynomialFeatures()</pre></div></div></div><div class=\"sk-item sk-dashed-wrapped\"><div class=\"sk-label-container\"><div class=\"sk-label sk-toggleable\"><input class=\"sk-toggleable__control sk-hidden--visually\" id=\"sk-estimator-id-4\" type=\"checkbox\" ><label for=\"sk-estimator-id-4\" class=\"sk-toggleable__label sk-toggleable__label-arrow\">rfe: RFE</label><div class=\"sk-toggleable__content\"><pre>RFE(estimator=Ridge())</pre></div></div></div><div class=\"sk-parallel\"><div class=\"sk-parallel-item\"><div class=\"sk-item\"><div class=\"sk-label-container\"><div class=\"sk-label sk-toggleable\"><input class=\"sk-toggleable__control sk-hidden--visually\" id=\"sk-estimator-id-5\" type=\"checkbox\" ><label for=\"sk-estimator-id-5\" class=\"sk-toggleable__label sk-toggleable__label-arrow\">estimator: Ridge</label><div class=\"sk-toggleable__content\"><pre>Ridge()</pre></div></div></div><div class=\"sk-serial\"><div class=\"sk-item\"><div class=\"sk-estimator sk-toggleable\"><input class=\"sk-toggleable__control sk-hidden--visually\" id=\"sk-estimator-id-6\" type=\"checkbox\" ><label for=\"sk-estimator-id-6\" class=\"sk-toggleable__label sk-toggleable__label-arrow\">Ridge</label><div class=\"sk-toggleable__content\"><pre>Ridge()</pre></div></div></div></div></div></div></div></div><div class=\"sk-item\"><div class=\"sk-estimator sk-toggleable\"><input class=\"sk-toggleable__control sk-hidden--visually\" id=\"sk-estimator-id-7\" type=\"checkbox\" ><label for=\"sk-estimator-id-7\" class=\"sk-toggleable__label sk-toggleable__label-arrow\">Ridge</label><div class=\"sk-toggleable__content\"><pre>Ridge(max_iter=10000)</pre></div></div></div></div></div></div></div>"
      ],
      "text/plain": [
       "Pipeline(steps=[('standardscaler', StandardScaler()),\n",
       "                ('polynomialfeatures', PolynomialFeatures()),\n",
       "                ('rfe', RFE(estimator=Ridge())),\n",
       "                ('ridge', Ridge(max_iter=10000))])"
      ]
     },
     "execution_count": 20,
     "metadata": {},
     "output_type": "execute_result"
    }
   ],
   "source": [
    "#Fit the pipe into our data\n",
    "pipe.fit(imputed_X, y_train)"
   ]
  },
  {
   "cell_type": "markdown",
   "id": "93d03ea9",
   "metadata": {},
   "source": [
    "# Model Evalaution / Metrics"
   ]
  },
  {
   "cell_type": "code",
   "execution_count": 21,
   "id": "2f1761d5",
   "metadata": {},
   "outputs": [
    {
     "data": {
      "text/plain": [
       "0.9999977709519866"
      ]
     },
     "execution_count": 21,
     "metadata": {},
     "output_type": "execute_result"
    }
   ],
   "source": [
    "# Training score\n",
    "pipe.score(imputed_X, y_train)"
   ]
  },
  {
   "cell_type": "code",
   "execution_count": 22,
   "id": "ddc5b2fb",
   "metadata": {},
   "outputs": [
    {
     "data": {
      "text/plain": [
       "0.9999978038299226"
      ]
     },
     "execution_count": 22,
     "metadata": {},
     "output_type": "execute_result"
    }
   ],
   "source": [
    "#Testing score\n",
    "pipe.score(imputed_X_test, y_test)"
   ]
  },
  {
   "cell_type": "markdown",
   "id": "bbd91e45",
   "metadata": {},
   "source": [
    "# Prediction of y"
   ]
  },
  {
   "cell_type": "code",
   "execution_count": 23,
   "id": "414a9abc",
   "metadata": {},
   "outputs": [],
   "source": [
    "y_pred = pipe.predict(imputed_X)"
   ]
  },
  {
   "cell_type": "code",
   "execution_count": 24,
   "id": "b6008c48",
   "metadata": {},
   "outputs": [
    {
     "data": {
      "text/plain": [
       "array([ 1.97794720e+05,  7.35421338e+04,  2.11787356e+05,  2.36035728e+05,\n",
       "       -1.14443997e+03,  3.05364544e+06,  9.92227543e+02,  3.48683677e+05,\n",
       "        4.08210282e+04,  1.78823647e+05])"
      ]
     },
     "execution_count": 24,
     "metadata": {},
     "output_type": "execute_result"
    }
   ],
   "source": [
    "y_pred[:10]"
   ]
  },
  {
   "cell_type": "markdown",
   "id": "06ca75b3",
   "metadata": {},
   "source": [
    "# Dummy Regressor -> Find out the Baseline Mean Square Error"
   ]
  },
  {
   "cell_type": "code",
   "execution_count": 25,
   "id": "eba97bfa",
   "metadata": {},
   "outputs": [],
   "source": [
    "from sklearn.dummy import DummyRegressor"
   ]
  },
  {
   "cell_type": "code",
   "execution_count": 26,
   "id": "1a6608e6",
   "metadata": {},
   "outputs": [],
   "source": [
    "lr = LinearRegression().fit(imputed_X, y_train)"
   ]
  },
  {
   "cell_type": "code",
   "execution_count": 27,
   "id": "b1e43ec3",
   "metadata": {},
   "outputs": [],
   "source": [
    "lr_dummy_mean = DummyRegressor(strategy = 'mean').fit(imputed_X, y_train)\n",
    "  \n",
    "lr_dummy_median = DummyRegressor(strategy = 'median').fit(imputed_X, y_train)"
   ]
  },
  {
   "cell_type": "code",
   "execution_count": 28,
   "id": "879c25ee",
   "metadata": {},
   "outputs": [],
   "source": [
    "y_predict = lr.predict(imputed_X_test)"
   ]
  },
  {
   "cell_type": "code",
   "execution_count": 29,
   "id": "d5e81fc1",
   "metadata": {},
   "outputs": [],
   "source": [
    "y_predict_dummy_mean = lr_dummy_mean.predict(imputed_X_test)\n",
    "y_predict_dummy_median = lr_dummy_median.predict(imputed_X_test)"
   ]
  },
  {
   "cell_type": "code",
   "execution_count": 30,
   "id": "70c63d3c",
   "metadata": {},
   "outputs": [
    {
     "name": "stdout",
     "output_type": "stream",
     "text": [
      "Linear model, coefficients:  [ 0.00000000e+00 -8.71525074e-15  2.90739655e-15  1.08246745e-15\n",
      "  1.00000000e+00 -8.48749518e-12 -1.05553540e-11]\n",
      "Mean squared error (dummy): 4033958.63\n"
     ]
    }
   ],
   "source": [
    "print('Linear model, coefficients: ', lr.coef_)\n",
    "print(\"Mean squared error (dummy): {:.2f}\".format(mean_squared_error(y_test, y_predict_dummy_mean, squared=False)))"
   ]
  },
  {
   "cell_type": "markdown",
   "id": "1dba6bcf",
   "metadata": {},
   "source": [
    "# Root Mean Squared Error of the Pipeline"
   ]
  },
  {
   "cell_type": "code",
   "execution_count": 31,
   "id": "e328eac6",
   "metadata": {},
   "outputs": [
    {
     "name": "stdout",
     "output_type": "stream",
     "text": [
      "train: 6229.383791213293\n",
      "test: 5978.04900018259\n"
     ]
    }
   ],
   "source": [
    "# Training RMSE\n",
    "print('train:', mean_squared_error(y_train, pipe.predict(imputed_X), squared=False))\n",
    "\n",
    "# Testing RMSE\n",
    "print('test:', mean_squared_error(y_test, pipe.predict(imputed_X_test), squared=False))"
   ]
  },
  {
   "cell_type": "markdown",
   "id": "184772a2",
   "metadata": {},
   "source": [
    "# Cross val score"
   ]
  },
  {
   "cell_type": "code",
   "execution_count": 32,
   "id": "4a6696c0",
   "metadata": {},
   "outputs": [
    {
     "data": {
      "text/plain": [
       "array([0.99999666, 0.99999772, 0.99999636, 0.99999651, 0.9999976 ])"
      ]
     },
     "execution_count": 32,
     "metadata": {},
     "output_type": "execute_result"
    }
   ],
   "source": [
    "scores = cross_val_score(estimator=pipe, X=imputed_X, y=y_train, cv=5)\n",
    "scores"
   ]
  },
  {
   "cell_type": "code",
   "execution_count": 33,
   "id": "7cc66a27",
   "metadata": {},
   "outputs": [
    {
     "data": {
      "text/plain": [
       "array([0.99999666, 0.99999772, 0.99999636, 0.99999651, 0.9999976 ])"
      ]
     },
     "execution_count": 33,
     "metadata": {},
     "output_type": "execute_result"
    }
   ],
   "source": [
    "# Generting cross validated predictions \n",
    "scores[:5]"
   ]
  },
  {
   "cell_type": "code",
   "execution_count": 34,
   "id": "bd72815e",
   "metadata": {},
   "outputs": [
    {
     "data": {
      "text/plain": [
       "5.740074799917236e-07"
      ]
     },
     "execution_count": 34,
     "metadata": {},
     "output_type": "execute_result"
    }
   ],
   "source": [
    "# get the standard deviation from cross validated testing score\n",
    "scores.std()"
   ]
  },
  {
   "cell_type": "code",
   "execution_count": 35,
   "id": "9ecee77e",
   "metadata": {},
   "outputs": [
    {
     "data": {
      "text/plain": [
       "0.999997067027012"
      ]
     },
     "execution_count": 35,
     "metadata": {},
     "output_type": "execute_result"
    }
   ],
   "source": [
    "# Running cross validation on the training subset\n",
    "# cv changes the number of folds\n",
    "cross_val_score(pipe, imputed_X, y_train, cv=7).mean()"
   ]
  },
  {
   "cell_type": "markdown",
   "id": "acb953bc",
   "metadata": {},
   "source": [
    "# R2 score"
   ]
  },
  {
   "cell_type": "code",
   "execution_count": 36,
   "id": "53a86704",
   "metadata": {},
   "outputs": [
    {
     "name": "stdout",
     "output_type": "stream",
     "text": [
      "r2 score of the ridge regression:  0.9999977709519866\n",
      "mean squared error on the training:  6229.383791213293\n"
     ]
    }
   ],
   "source": [
    "from sklearn import metrics\n",
    "\n",
    "print('r2 score of the ridge regression: ',metrics.r2_score(y_train, y_pred))\n",
    "\n",
    "print('mean squared error on the training: ', metrics.mean_squared_error(y_train, y_pred,squared=False))"
   ]
  },
  {
   "cell_type": "code",
   "execution_count": null,
   "id": "914337b9",
   "metadata": {},
   "outputs": [],
   "source": []
  },
  {
   "cell_type": "markdown",
   "id": "89907611",
   "metadata": {},
   "source": [
    "# Baseline for y"
   ]
  },
  {
   "cell_type": "code",
   "execution_count": 37,
   "id": "01bea2f1",
   "metadata": {},
   "outputs": [
    {
     "data": {
      "text/plain": [
       "666125.5059302326"
      ]
     },
     "execution_count": 37,
     "metadata": {},
     "output_type": "execute_result"
    }
   ],
   "source": [
    "# Baseline\n",
    "y.mean()"
   ]
  },
  {
   "cell_type": "code",
   "execution_count": null,
   "id": "891c025d",
   "metadata": {},
   "outputs": [],
   "source": []
  },
  {
   "cell_type": "markdown",
   "id": "022082a0-5b41-4f84-bd65-06c9fe48a723",
   "metadata": {},
   "source": [
    "# Arima "
   ]
  },
  {
   "cell_type": "code",
   "execution_count": 38,
   "id": "847f92da-e781-4458-a537-ee871b845673",
   "metadata": {},
   "outputs": [],
   "source": [
    "from statsmodels.tsa.seasonal import seasonal_decompose"
   ]
  },
  {
   "cell_type": "code",
   "execution_count": 55,
   "id": "4400b89b-dbd0-458b-8581-d8fa25d54073",
   "metadata": {},
   "outputs": [],
   "source": [
    "US_df = cleaned_df[[\"Series_Complete_Yes\", \"Date\"]].copy()"
   ]
  },
  {
   "cell_type": "code",
   "execution_count": 60,
   "id": "a2ded398-5f60-4ccb-a09c-b1f0d516c4bd",
   "metadata": {},
   "outputs": [
    {
     "data": {
      "text/html": [
       "<div>\n",
       "<style scoped>\n",
       "    .dataframe tbody tr th:only-of-type {\n",
       "        vertical-align: middle;\n",
       "    }\n",
       "\n",
       "    .dataframe tbody tr th {\n",
       "        vertical-align: top;\n",
       "    }\n",
       "\n",
       "    .dataframe thead th {\n",
       "        text-align: right;\n",
       "    }\n",
       "</style>\n",
       "<table border=\"1\" class=\"dataframe\">\n",
       "  <thead>\n",
       "    <tr style=\"text-align: right;\">\n",
       "      <th></th>\n",
       "      <th>Date</th>\n",
       "      <th>Location</th>\n",
       "      <th>Demographic_Category</th>\n",
       "      <th>census</th>\n",
       "      <th>Not_Vaccinated</th>\n",
       "      <th>Administered_Dose1</th>\n",
       "      <th>Series_Complete_Yes</th>\n",
       "    </tr>\n",
       "  </thead>\n",
       "  <tbody>\n",
       "    <tr>\n",
       "      <th>0</th>\n",
       "      <td>NaN</td>\n",
       "      <td>1</td>\n",
       "      <td>1</td>\n",
       "      <td>52055.0</td>\n",
       "      <td>3116.0</td>\n",
       "      <td>48939.0</td>\n",
       "      <td>42161.0</td>\n",
       "    </tr>\n",
       "    <tr>\n",
       "      <th>1</th>\n",
       "      <td>NaN</td>\n",
       "      <td>2</td>\n",
       "      <td>1</td>\n",
       "      <td>481323.0</td>\n",
       "      <td>123150.0</td>\n",
       "      <td>358173.0</td>\n",
       "      <td>262023.0</td>\n",
       "    </tr>\n",
       "    <tr>\n",
       "      <th>2</th>\n",
       "      <td>NaN</td>\n",
       "      <td>35</td>\n",
       "      <td>26</td>\n",
       "      <td>135005.0</td>\n",
       "      <td>103698.0</td>\n",
       "      <td>31307.0</td>\n",
       "      <td>20149.0</td>\n",
       "    </tr>\n",
       "    <tr>\n",
       "      <th>3</th>\n",
       "      <td>NaN</td>\n",
       "      <td>36</td>\n",
       "      <td>26</td>\n",
       "      <td>133254.0</td>\n",
       "      <td>120857.0</td>\n",
       "      <td>12397.0</td>\n",
       "      <td>6750.0</td>\n",
       "    </tr>\n",
       "    <tr>\n",
       "      <th>4</th>\n",
       "      <td>NaN</td>\n",
       "      <td>37</td>\n",
       "      <td>28</td>\n",
       "      <td>526217.0</td>\n",
       "      <td>105711.0</td>\n",
       "      <td>420506.0</td>\n",
       "      <td>358267.0</td>\n",
       "    </tr>\n",
       "  </tbody>\n",
       "</table>\n",
       "</div>"
      ],
      "text/plain": [
       "   Date  Location  Demographic_Category    census  Not_Vaccinated  \\\n",
       "0   NaN         1                     1   52055.0          3116.0   \n",
       "1   NaN         2                     1  481323.0        123150.0   \n",
       "2   NaN        35                    26  135005.0        103698.0   \n",
       "3   NaN        36                    26  133254.0        120857.0   \n",
       "4   NaN        37                    28  526217.0        105711.0   \n",
       "\n",
       "   Administered_Dose1  Series_Complete_Yes  \n",
       "0             48939.0              42161.0  \n",
       "1            358173.0             262023.0  \n",
       "2             31307.0              20149.0  \n",
       "3             12397.0               6750.0  \n",
       "4            420506.0             358267.0  "
      ]
     },
     "execution_count": 60,
     "metadata": {},
     "output_type": "execute_result"
    }
   ],
   "source": [
    "cleaned_df.head()"
   ]
  },
  {
   "cell_type": "code",
   "execution_count": 59,
   "id": "f830fd09-bfa3-4f14-8da8-a3592e8baee9",
   "metadata": {},
   "outputs": [
    {
     "data": {
      "text/plain": [
       "<bound method NDFrame.head of        Series_Complete_Yes  Date\n",
       "0                  42161.0   NaN\n",
       "1                 262023.0   NaN\n",
       "2                  20149.0   NaN\n",
       "3                   6750.0   NaN\n",
       "4                 358267.0   NaN\n",
       "...                    ...   ...\n",
       "77395                  0.0   NaN\n",
       "77396               2075.0   NaN\n",
       "77397               4018.0   NaN\n",
       "77398           29013930.0   NaN\n",
       "77399               4462.0   NaN\n",
       "\n",
       "[77400 rows x 2 columns]>"
      ]
     },
     "execution_count": 59,
     "metadata": {},
     "output_type": "execute_result"
    }
   ],
   "source": [
    "US_df.head"
   ]
  },
  {
   "cell_type": "code",
   "execution_count": 57,
   "id": "d7684401-6982-4713-a346-9895f3415527",
   "metadata": {},
   "outputs": [
    {
     "data": {
      "text/html": [
       "<div>\n",
       "<style scoped>\n",
       "    .dataframe tbody tr th:only-of-type {\n",
       "        vertical-align: middle;\n",
       "    }\n",
       "\n",
       "    .dataframe tbody tr th {\n",
       "        vertical-align: top;\n",
       "    }\n",
       "\n",
       "    .dataframe thead th {\n",
       "        text-align: right;\n",
       "    }\n",
       "</style>\n",
       "<table border=\"1\" class=\"dataframe\">\n",
       "  <thead>\n",
       "    <tr style=\"text-align: right;\">\n",
       "      <th></th>\n",
       "      <th>Series_Complete_Yes</th>\n",
       "    </tr>\n",
       "    <tr>\n",
       "      <th>Date</th>\n",
       "      <th></th>\n",
       "    </tr>\n",
       "  </thead>\n",
       "  <tbody>\n",
       "  </tbody>\n",
       "</table>\n",
       "</div>"
      ],
      "text/plain": [
       "Empty DataFrame\n",
       "Columns: [Series_Complete_Yes]\n",
       "Index: []"
      ]
     },
     "execution_count": 57,
     "metadata": {},
     "output_type": "execute_result"
    }
   ],
   "source": [
    "US_df.groupby(\"Date\").mean()"
   ]
  },
  {
   "cell_type": "code",
   "execution_count": 54,
   "id": "f32f32b6-ec3a-4e0a-9af4-05c01ac700ed",
   "metadata": {
    "collapsed": true,
    "jupyter": {
     "outputs_hidden": true
    },
    "tags": []
   },
   "outputs": [
    {
     "ename": "ValueError",
     "evalue": "You must specify a period or x must be a pandas object with a PeriodIndex or a DatetimeIndex with a freq not set to None",
     "output_type": "error",
     "traceback": [
      "\u001b[0;31m---------------------------------------------------------------------------\u001b[0m",
      "\u001b[0;31mValueError\u001b[0m                                Traceback (most recent call last)",
      "Input \u001b[0;32mIn [54]\u001b[0m, in \u001b[0;36m<cell line: 1>\u001b[0;34m()\u001b[0m\n\u001b[0;32m----> 1\u001b[0m decomp \u001b[38;5;241m=\u001b[39m \u001b[43mseasonal_decompose\u001b[49m\u001b[43m(\u001b[49m\u001b[43mx\u001b[49m\u001b[38;5;241;43m=\u001b[39;49m\u001b[43mcleaned_df\u001b[49m\u001b[43m[\u001b[49m\u001b[38;5;124;43m\"\u001b[39;49m\u001b[38;5;124;43mSeries_Complete_Yes\u001b[39;49m\u001b[38;5;124;43m\"\u001b[39;49m\u001b[43m]\u001b[49m\u001b[43m)\u001b[49m\n\u001b[1;32m      2\u001b[0m decomp\u001b[38;5;241m.\u001b[39mplot()\n",
      "File \u001b[0;32m/opt/anaconda3/lib/python3.9/site-packages/statsmodels/tsa/seasonal.py:159\u001b[0m, in \u001b[0;36mseasonal_decompose\u001b[0;34m(x, model, filt, period, two_sided, extrapolate_trend)\u001b[0m\n\u001b[1;32m    157\u001b[0m         period \u001b[38;5;241m=\u001b[39m pfreq\n\u001b[1;32m    158\u001b[0m     \u001b[38;5;28;01melse\u001b[39;00m:\n\u001b[0;32m--> 159\u001b[0m         \u001b[38;5;28;01mraise\u001b[39;00m \u001b[38;5;167;01mValueError\u001b[39;00m(\n\u001b[1;32m    160\u001b[0m             \u001b[38;5;124m\"\u001b[39m\u001b[38;5;124mYou must specify a period or x must be a pandas object with \u001b[39m\u001b[38;5;124m\"\u001b[39m\n\u001b[1;32m    161\u001b[0m             \u001b[38;5;124m\"\u001b[39m\u001b[38;5;124ma PeriodIndex or a DatetimeIndex with a freq not set to None\u001b[39m\u001b[38;5;124m\"\u001b[39m\n\u001b[1;32m    162\u001b[0m         )\n\u001b[1;32m    163\u001b[0m \u001b[38;5;28;01mif\u001b[39;00m x\u001b[38;5;241m.\u001b[39mshape[\u001b[38;5;241m0\u001b[39m] \u001b[38;5;241m<\u001b[39m \u001b[38;5;241m2\u001b[39m \u001b[38;5;241m*\u001b[39m pfreq:\n\u001b[1;32m    164\u001b[0m     \u001b[38;5;28;01mraise\u001b[39;00m \u001b[38;5;167;01mValueError\u001b[39;00m(\n\u001b[1;32m    165\u001b[0m         \u001b[38;5;124mf\u001b[39m\u001b[38;5;124m\"\u001b[39m\u001b[38;5;124mx must have 2 complete cycles requires \u001b[39m\u001b[38;5;132;01m{\u001b[39;00m\u001b[38;5;241m2\u001b[39m \u001b[38;5;241m*\u001b[39m pfreq\u001b[38;5;132;01m}\u001b[39;00m\u001b[38;5;124m \u001b[39m\u001b[38;5;124m\"\u001b[39m\n\u001b[1;32m    166\u001b[0m         \u001b[38;5;124mf\u001b[39m\u001b[38;5;124m\"\u001b[39m\u001b[38;5;124mobservations. x only has \u001b[39m\u001b[38;5;132;01m{\u001b[39;00mx\u001b[38;5;241m.\u001b[39mshape[\u001b[38;5;241m0\u001b[39m]\u001b[38;5;132;01m}\u001b[39;00m\u001b[38;5;124m observation(s)\u001b[39m\u001b[38;5;124m\"\u001b[39m\n\u001b[1;32m    167\u001b[0m     )\n",
      "\u001b[0;31mValueError\u001b[0m: You must specify a period or x must be a pandas object with a PeriodIndex or a DatetimeIndex with a freq not set to None"
     ]
    }
   ],
   "source": [
    "decomp = seasonal_decompose(x=cleaned_df[\"Series_Complete_Yes\"])\n",
    "decomp.plot();"
   ]
  },
  {
   "cell_type": "code",
   "execution_count": 52,
   "id": "7c3359fe-e937-43a0-8245-3f71ba85e923",
   "metadata": {},
   "outputs": [
    {
     "data": {
      "image/png": "[encoded data removed]",
      "text/plain": [
       "<Figure size 640x480 with 1 Axes>"
      ]
     },
     "metadata": {},
     "output_type": "display_data"
    }
   ],
   "source": [
    "plt.plot(cleaned_df[\"Series_Complete_Yes\"], cleaned_df[\"Date\"]);"
   ]
  },
  {
   "cell_type": "code",
   "execution_count": null,
   "id": "efd3f6c8-9555-4204-aded-df0077a4d701",
   "metadata": {},
   "outputs": [],
   "source": []
  }
 ],
 "metadata": {
  "kernelspec": {
   "display_name": "Python 3 (ipykernel)",
   "language": "python",
   "name": "python3"
  },
  "language_info": {
   "codemirror_mode": {
    "name": "ipython",
    "version": 3
   },
   "file_extension": ".py",
   "mimetype": "text/x-python",
   "name": "python",
   "nbconvert_exporter": "python",
   "pygments_lexer": "ipython3",
   "version": "3.9.12"
  }
 },
 "nbformat": 4,
 "nbformat_minor": 5
}
