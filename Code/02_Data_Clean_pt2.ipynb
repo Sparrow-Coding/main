{
 "cells": [
  {
   "cell_type": "code",
   "execution_count": 7,
   "id": "5794ad69-4675-4c57-b957-8b0e679ac27e",
   "metadata": {},
   "outputs": [],
   "source": [
    "import pandas as pd\n",
    "import numpy as np\n",
    "import seaborn as sns"
   ]
  },
  {
   "cell_type": "code",
   "execution_count": 2,
   "id": "0e986b15-45f6-4d6f-b6d3-a490da8df864",
   "metadata": {},
   "outputs": [
    {
     "data": {
      "text/html": [
       "<div>\n",
       "<style scoped>\n",
       "    .dataframe tbody tr th:only-of-type {\n",
       "        vertical-align: middle;\n",
       "    }\n",
       "\n",
       "    .dataframe tbody tr th {\n",
       "        vertical-align: top;\n",
       "    }\n",
       "\n",
       "    .dataframe thead th {\n",
       "        text-align: right;\n",
       "    }\n",
       "</style>\n",
       "<table border=\"1\" class=\"dataframe\">\n",
       "  <thead>\n",
       "    <tr style=\"text-align: right;\">\n",
       "      <th></th>\n",
       "      <th>Unnamed: 0</th>\n",
       "      <th>Date</th>\n",
       "      <th>Location</th>\n",
       "      <th>Demographic_Category</th>\n",
       "      <th>census</th>\n",
       "      <th>Not_Vaccinated</th>\n",
       "      <th>Administered_Dose1</th>\n",
       "      <th>Series_Complete_Yes</th>\n",
       "    </tr>\n",
       "  </thead>\n",
       "  <tbody>\n",
       "    <tr>\n",
       "      <th>0</th>\n",
       "      <td>882360</td>\n",
       "      <td>2021-12-30</td>\n",
       "      <td>1</td>\n",
       "      <td>1</td>\n",
       "      <td>52055.0</td>\n",
       "      <td>3116.0</td>\n",
       "      <td>48939.0</td>\n",
       "      <td>42161.0</td>\n",
       "    </tr>\n",
       "    <tr>\n",
       "      <th>1</th>\n",
       "      <td>882361</td>\n",
       "      <td>2021-12-30</td>\n",
       "      <td>2</td>\n",
       "      <td>1</td>\n",
       "      <td>481323.0</td>\n",
       "      <td>123150.0</td>\n",
       "      <td>358173.0</td>\n",
       "      <td>262023.0</td>\n",
       "    </tr>\n",
       "    <tr>\n",
       "      <th>2</th>\n",
       "      <td>882362</td>\n",
       "      <td>2021-12-30</td>\n",
       "      <td>35</td>\n",
       "      <td>26</td>\n",
       "      <td>135005.0</td>\n",
       "      <td>103698.0</td>\n",
       "      <td>31307.0</td>\n",
       "      <td>20149.0</td>\n",
       "    </tr>\n",
       "    <tr>\n",
       "      <th>3</th>\n",
       "      <td>882363</td>\n",
       "      <td>2021-12-30</td>\n",
       "      <td>36</td>\n",
       "      <td>26</td>\n",
       "      <td>133254.0</td>\n",
       "      <td>120857.0</td>\n",
       "      <td>12397.0</td>\n",
       "      <td>6750.0</td>\n",
       "    </tr>\n",
       "    <tr>\n",
       "      <th>4</th>\n",
       "      <td>882364</td>\n",
       "      <td>2021-12-30</td>\n",
       "      <td>37</td>\n",
       "      <td>28</td>\n",
       "      <td>526217.0</td>\n",
       "      <td>105711.0</td>\n",
       "      <td>420506.0</td>\n",
       "      <td>358267.0</td>\n",
       "    </tr>\n",
       "  </tbody>\n",
       "</table>\n",
       "</div>"
      ],
      "text/plain": [
       "   Unnamed: 0        Date  Location  Demographic_Category    census  \\\n",
       "0      882360  2021-12-30         1                     1   52055.0   \n",
       "1      882361  2021-12-30         2                     1  481323.0   \n",
       "2      882362  2021-12-30        35                    26  135005.0   \n",
       "3      882363  2021-12-30        36                    26  133254.0   \n",
       "4      882364  2021-12-30        37                    28  526217.0   \n",
       "\n",
       "   Not_Vaccinated  Administered_Dose1  Series_Complete_Yes  \n",
       "0          3116.0             48939.0              42161.0  \n",
       "1        123150.0            358173.0             262023.0  \n",
       "2        103698.0             31307.0              20149.0  \n",
       "3        120857.0             12397.0               6750.0  \n",
       "4        105711.0            420506.0             358267.0  "
      ]
     },
     "execution_count": 2,
     "metadata": {},
     "output_type": "execute_result"
    }
   ],
   "source": [
    "df = pd.read_csv('../Data/filtered_df.csv')\n",
    "df.head()"
   ]
  },
  {
   "cell_type": "code",
   "execution_count": 3,
   "id": "aa305205-4057-4884-a445-9888c45888b5",
   "metadata": {},
   "outputs": [],
   "source": [
    "df.drop(columns='Unnamed: 0',inplace=True)"
   ]
  },
  {
   "cell_type": "code",
   "execution_count": 4,
   "id": "cab9b2ff-bfb5-4557-99f0-0ca50b981faa",
   "metadata": {},
   "outputs": [
    {
     "data": {
      "text/html": [
       "<div>\n",
       "<style scoped>\n",
       "    .dataframe tbody tr th:only-of-type {\n",
       "        vertical-align: middle;\n",
       "    }\n",
       "\n",
       "    .dataframe tbody tr th {\n",
       "        vertical-align: top;\n",
       "    }\n",
       "\n",
       "    .dataframe thead th {\n",
       "        text-align: right;\n",
       "    }\n",
       "</style>\n",
       "<table border=\"1\" class=\"dataframe\">\n",
       "  <thead>\n",
       "    <tr style=\"text-align: right;\">\n",
       "      <th></th>\n",
       "      <th>Date</th>\n",
       "      <th>Location</th>\n",
       "      <th>Demographic_Category</th>\n",
       "      <th>census</th>\n",
       "      <th>Not_Vaccinated</th>\n",
       "      <th>Administered_Dose1</th>\n",
       "      <th>Series_Complete_Yes</th>\n",
       "    </tr>\n",
       "  </thead>\n",
       "  <tbody>\n",
       "    <tr>\n",
       "      <th>0</th>\n",
       "      <td>2021-12-30</td>\n",
       "      <td>1</td>\n",
       "      <td>1</td>\n",
       "      <td>52055.0</td>\n",
       "      <td>3116.0</td>\n",
       "      <td>48939.0</td>\n",
       "      <td>42161.0</td>\n",
       "    </tr>\n",
       "    <tr>\n",
       "      <th>1</th>\n",
       "      <td>2021-12-30</td>\n",
       "      <td>2</td>\n",
       "      <td>1</td>\n",
       "      <td>481323.0</td>\n",
       "      <td>123150.0</td>\n",
       "      <td>358173.0</td>\n",
       "      <td>262023.0</td>\n",
       "    </tr>\n",
       "    <tr>\n",
       "      <th>2</th>\n",
       "      <td>2021-12-30</td>\n",
       "      <td>35</td>\n",
       "      <td>26</td>\n",
       "      <td>135005.0</td>\n",
       "      <td>103698.0</td>\n",
       "      <td>31307.0</td>\n",
       "      <td>20149.0</td>\n",
       "    </tr>\n",
       "    <tr>\n",
       "      <th>3</th>\n",
       "      <td>2021-12-30</td>\n",
       "      <td>36</td>\n",
       "      <td>26</td>\n",
       "      <td>133254.0</td>\n",
       "      <td>120857.0</td>\n",
       "      <td>12397.0</td>\n",
       "      <td>6750.0</td>\n",
       "    </tr>\n",
       "    <tr>\n",
       "      <th>4</th>\n",
       "      <td>2021-12-30</td>\n",
       "      <td>37</td>\n",
       "      <td>28</td>\n",
       "      <td>526217.0</td>\n",
       "      <td>105711.0</td>\n",
       "      <td>420506.0</td>\n",
       "      <td>358267.0</td>\n",
       "    </tr>\n",
       "  </tbody>\n",
       "</table>\n",
       "</div>"
      ],
      "text/plain": [
       "         Date  Location  Demographic_Category    census  Not_Vaccinated  \\\n",
       "0  2021-12-30         1                     1   52055.0          3116.0   \n",
       "1  2021-12-30         2                     1  481323.0        123150.0   \n",
       "2  2021-12-30        35                    26  135005.0        103698.0   \n",
       "3  2021-12-30        36                    26  133254.0        120857.0   \n",
       "4  2021-12-30        37                    28  526217.0        105711.0   \n",
       "\n",
       "   Administered_Dose1  Series_Complete_Yes  \n",
       "0             48939.0              42161.0  \n",
       "1            358173.0             262023.0  \n",
       "2             31307.0              20149.0  \n",
       "3             12397.0               6750.0  \n",
       "4            420506.0             358267.0  "
      ]
     },
     "execution_count": 4,
     "metadata": {},
     "output_type": "execute_result"
    }
   ],
   "source": [
    "df.head()"
   ]
  },
  {
   "cell_type": "code",
   "execution_count": 5,
   "id": "038a74fd-5e41-4725-9137-a5da47fa0a63",
   "metadata": {},
   "outputs": [
    {
     "data": {
      "text/html": [
       "<div>\n",
       "<style scoped>\n",
       "    .dataframe tbody tr th:only-of-type {\n",
       "        vertical-align: middle;\n",
       "    }\n",
       "\n",
       "    .dataframe tbody tr th {\n",
       "        vertical-align: top;\n",
       "    }\n",
       "\n",
       "    .dataframe thead th {\n",
       "        text-align: right;\n",
       "    }\n",
       "</style>\n",
       "<table border=\"1\" class=\"dataframe\">\n",
       "  <thead>\n",
       "    <tr style=\"text-align: right;\">\n",
       "      <th></th>\n",
       "      <th>Date</th>\n",
       "      <th>Location</th>\n",
       "      <th>Demographic_Category</th>\n",
       "      <th>census</th>\n",
       "      <th>Not_Vaccinated</th>\n",
       "      <th>Administered_Dose1</th>\n",
       "      <th>Series_Complete_Yes</th>\n",
       "    </tr>\n",
       "  </thead>\n",
       "  <tbody>\n",
       "    <tr>\n",
       "      <th>0</th>\n",
       "      <td>2021-12-30</td>\n",
       "      <td>1</td>\n",
       "      <td>1</td>\n",
       "      <td>52055.0</td>\n",
       "      <td>3116.0</td>\n",
       "      <td>48939.0</td>\n",
       "      <td>42161.0</td>\n",
       "    </tr>\n",
       "    <tr>\n",
       "      <th>1</th>\n",
       "      <td>2021-12-30</td>\n",
       "      <td>2</td>\n",
       "      <td>1</td>\n",
       "      <td>481323.0</td>\n",
       "      <td>123150.0</td>\n",
       "      <td>358173.0</td>\n",
       "      <td>262023.0</td>\n",
       "    </tr>\n",
       "  </tbody>\n",
       "</table>\n",
       "</div>"
      ],
      "text/plain": [
       "         Date  Location  Demographic_Category    census  Not_Vaccinated  \\\n",
       "0  2021-12-30         1                     1   52055.0          3116.0   \n",
       "1  2021-12-30         2                     1  481323.0        123150.0   \n",
       "\n",
       "   Administered_Dose1  Series_Complete_Yes  \n",
       "0             48939.0              42161.0  \n",
       "1            358173.0             262023.0  "
      ]
     },
     "execution_count": 5,
     "metadata": {},
     "output_type": "execute_result"
    }
   ],
   "source": [
    "df2 = df[['Date','Location','Demographic_Category','census','Not_Vaccinated','Administered_Dose1','Series_Complete_Yes']]\n",
    "df2.head(2)"
   ]
  },
  {
   "cell_type": "code",
   "execution_count": 6,
   "id": "d31389e7-f37f-4e47-9166-eccedefdf059",
   "metadata": {},
   "outputs": [],
   "source": [
    "df2.to_csv('df2.csv')"
   ]
  },
  {
   "cell_type": "code",
   "execution_count": 14,
   "id": "7c4d41c1-8bf3-4970-8442-51fcee52daf9",
   "metadata": {},
   "outputs": [
    {
     "data": {
      "image/png": "[encoded data removed]",
      "text/plain": [
       "<Figure size 432x288 with 2 Axes>"
      ]
     },
     "metadata": {
      "needs_background": "light"
     },
     "output_type": "display_data"
    }
   ],
   "source": [
    "sns.heatmap(df2.corr(),annot=True);"
   ]
  },
  {
   "cell_type": "code",
   "execution_count": null,
   "id": "607145d6-df95-490d-b7e1-cc1b88adc6d6",
   "metadata": {},
   "outputs": [],
   "source": []
  }
 ],
 "metadata": {
  "kernelspec": {
   "display_name": "Python 3 (ipykernel)",
   "language": "python",
   "name": "python3"
  },
  "language_info": {
   "codemirror_mode": {
    "name": "ipython",
    "version": 3
   },
   "file_extension": ".py",
   "mimetype": "text/x-python",
   "name": "python",
   "nbconvert_exporter": "python",
   "pygments_lexer": "ipython3",
   "version": "3.9.12"
  }
 },
 "nbformat": 4,
 "nbformat_minor": 5
}
