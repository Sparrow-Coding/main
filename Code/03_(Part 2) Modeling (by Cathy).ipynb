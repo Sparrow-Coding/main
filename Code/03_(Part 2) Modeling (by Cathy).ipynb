{
 "cells": [
  {
   "cell_type": "code",
   "execution_count": 1,
   "id": "dc1a7d1e",
   "metadata": {},
   "outputs": [],
   "source": [
    "import pandas as pd \n",
    "import numpy as np\n",
    "import seaborn as sns\n",
    "import matplotlib.pyplot as plt\n",
    "\n",
    "from sklearn.model_selection import train_test_split, cross_val_score\n",
    "from sklearn.linear_model import LinearRegression\n",
    "from sklearn.preprocessing import StandardScaler, PolynomialFeatures\n",
    "from sklearn.impute import SimpleImputer\n",
    "from sklearn.preprocessing import MinMaxScaler, StandardScaler\n",
    "from sklearn.model_selection import train_test_split\n",
    "from sklearn.metrics import mean_squared_error, mean_absolute_error\n",
    "from sklearn.preprocessing import PolynomialFeatures\n",
    "from sklearn.feature_selection import RFE \n",
    "from sklearn.model_selection import train_test_split\n",
    "from sklearn.pipeline import make_pipeline, Pipeline\n",
    "from sklearn.preprocessing import StandardScaler\n",
    "from sklearn.linear_model import Lasso, LassoCV\n",
    "from sklearn.linear_model import Ridge, RidgeCV\n"
   ]
  },
  {
   "cell_type": "code",
   "execution_count": 2,
   "id": "e9a978ae",
   "metadata": {},
   "outputs": [],
   "source": [
    "df = pd.read_csv('COVID-19_Vaccination_Age_and_Sex_Trends_in_the_United_States__National_and_Jurisdictional.csv')"
   ]
  },
  {
   "cell_type": "code",
   "execution_count": 3,
   "id": "0520fcbe",
   "metadata": {},
   "outputs": [
    {
     "data": {
      "text/html": [
       "<div>\n",
       "<style scoped>\n",
       "    .dataframe tbody tr th:only-of-type {\n",
       "        vertical-align: middle;\n",
       "    }\n",
       "\n",
       "    .dataframe tbody tr th {\n",
       "        vertical-align: top;\n",
       "    }\n",
       "\n",
       "    .dataframe thead th {\n",
       "        text-align: right;\n",
       "    }\n",
       "</style>\n",
       "<table border=\"1\" class=\"dataframe\">\n",
       "  <thead>\n",
       "    <tr style=\"text-align: right;\">\n",
       "      <th></th>\n",
       "      <th>Date</th>\n",
       "      <th>Location</th>\n",
       "      <th>Demographic_Category</th>\n",
       "      <th>census</th>\n",
       "      <th>Administered_Dose1</th>\n",
       "      <th>Series_Complete_Yes</th>\n",
       "      <th>Booster_Doses</th>\n",
       "      <th>Second_Booster</th>\n",
       "      <th>Administered_Dose1_pct_agegroup</th>\n",
       "      <th>Series_Complete_Pop_pct_agegroup</th>\n",
       "      <th>Booster_Doses_Vax_pct_agegroup</th>\n",
       "      <th>Second_Booster_Vax_pct_agegroup</th>\n",
       "    </tr>\n",
       "  </thead>\n",
       "  <tbody>\n",
       "    <tr>\n",
       "      <th>0</th>\n",
       "      <td>12/07/2022 12:00:00 AM</td>\n",
       "      <td>SD</td>\n",
       "      <td>Female_Ages_25-39_yrs</td>\n",
       "      <td>82026.0</td>\n",
       "      <td>70565.0</td>\n",
       "      <td>54893.0</td>\n",
       "      <td>19864.0</td>\n",
       "      <td>NaN</td>\n",
       "      <td>86.0</td>\n",
       "      <td>66.9</td>\n",
       "      <td>36.2</td>\n",
       "      <td>NaN</td>\n",
       "    </tr>\n",
       "    <tr>\n",
       "      <th>1</th>\n",
       "      <td>12/07/2022 12:00:00 AM</td>\n",
       "      <td>WI</td>\n",
       "      <td>Female_Ages_25-39_yrs</td>\n",
       "      <td>545614.0</td>\n",
       "      <td>425661.0</td>\n",
       "      <td>380299.0</td>\n",
       "      <td>194014.0</td>\n",
       "      <td>NaN</td>\n",
       "      <td>78.0</td>\n",
       "      <td>69.7</td>\n",
       "      <td>51.0</td>\n",
       "      <td>NaN</td>\n",
       "    </tr>\n",
       "    <tr>\n",
       "      <th>2</th>\n",
       "      <td>12/07/2022 12:00:00 AM</td>\n",
       "      <td>IN</td>\n",
       "      <td>Sex_Female</td>\n",
       "      <td>3411859.0</td>\n",
       "      <td>2257339.0</td>\n",
       "      <td>2040656.0</td>\n",
       "      <td>1069660.0</td>\n",
       "      <td>296972.0</td>\n",
       "      <td>66.2</td>\n",
       "      <td>59.8</td>\n",
       "      <td>52.5</td>\n",
       "      <td>43.3</td>\n",
       "    </tr>\n",
       "    <tr>\n",
       "      <th>3</th>\n",
       "      <td>12/07/2022 12:00:00 AM</td>\n",
       "      <td>UT</td>\n",
       "      <td>Sex_Female</td>\n",
       "      <td>1591041.0</td>\n",
       "      <td>1208999.0</td>\n",
       "      <td>1081849.0</td>\n",
       "      <td>556474.0</td>\n",
       "      <td>135224.0</td>\n",
       "      <td>76.0</td>\n",
       "      <td>68.0</td>\n",
       "      <td>51.6</td>\n",
       "      <td>49.9</td>\n",
       "    </tr>\n",
       "    <tr>\n",
       "      <th>4</th>\n",
       "      <td>12/07/2022 12:00:00 AM</td>\n",
       "      <td>RI</td>\n",
       "      <td>Female_Ages_65+_yrs</td>\n",
       "      <td>105649.0</td>\n",
       "      <td>127869.0</td>\n",
       "      <td>109840.0</td>\n",
       "      <td>89614.0</td>\n",
       "      <td>55490.0</td>\n",
       "      <td>95.0</td>\n",
       "      <td>95.0</td>\n",
       "      <td>81.6</td>\n",
       "      <td>61.9</td>\n",
       "    </tr>\n",
       "    <tr>\n",
       "      <th>...</th>\n",
       "      <td>...</td>\n",
       "      <td>...</td>\n",
       "      <td>...</td>\n",
       "      <td>...</td>\n",
       "      <td>...</td>\n",
       "      <td>...</td>\n",
       "      <td>...</td>\n",
       "      <td>...</td>\n",
       "      <td>...</td>\n",
       "      <td>...</td>\n",
       "      <td>...</td>\n",
       "      <td>...</td>\n",
       "    </tr>\n",
       "    <tr>\n",
       "      <th>1870495</th>\n",
       "      <td>12/13/2020 12:00:00 AM</td>\n",
       "      <td>VA</td>\n",
       "      <td>Female_Ages_&lt;2yrs</td>\n",
       "      <td>96647.0</td>\n",
       "      <td>NaN</td>\n",
       "      <td>NaN</td>\n",
       "      <td>NaN</td>\n",
       "      <td>NaN</td>\n",
       "      <td>NaN</td>\n",
       "      <td>NaN</td>\n",
       "      <td>NaN</td>\n",
       "      <td>NaN</td>\n",
       "    </tr>\n",
       "    <tr>\n",
       "      <th>1870496</th>\n",
       "      <td>12/13/2020 12:00:00 AM</td>\n",
       "      <td>OK</td>\n",
       "      <td>Male_Ages_&lt;2yrs</td>\n",
       "      <td>50289.0</td>\n",
       "      <td>NaN</td>\n",
       "      <td>NaN</td>\n",
       "      <td>NaN</td>\n",
       "      <td>NaN</td>\n",
       "      <td>NaN</td>\n",
       "      <td>NaN</td>\n",
       "      <td>NaN</td>\n",
       "      <td>NaN</td>\n",
       "    </tr>\n",
       "    <tr>\n",
       "      <th>1870497</th>\n",
       "      <td>12/13/2020 12:00:00 AM</td>\n",
       "      <td>IL</td>\n",
       "      <td>Male_Ages_&lt;2yrs</td>\n",
       "      <td>147954.0</td>\n",
       "      <td>NaN</td>\n",
       "      <td>NaN</td>\n",
       "      <td>NaN</td>\n",
       "      <td>NaN</td>\n",
       "      <td>NaN</td>\n",
       "      <td>NaN</td>\n",
       "      <td>NaN</td>\n",
       "      <td>NaN</td>\n",
       "    </tr>\n",
       "    <tr>\n",
       "      <th>1870498</th>\n",
       "      <td>12/13/2020 12:00:00 AM</td>\n",
       "      <td>ME</td>\n",
       "      <td>Male_Ages_65-74_yrs</td>\n",
       "      <td>80965.0</td>\n",
       "      <td>35.0</td>\n",
       "      <td>11.0</td>\n",
       "      <td>NaN</td>\n",
       "      <td>NaN</td>\n",
       "      <td>0.0</td>\n",
       "      <td>0.0</td>\n",
       "      <td>NaN</td>\n",
       "      <td>NaN</td>\n",
       "    </tr>\n",
       "    <tr>\n",
       "      <th>1870499</th>\n",
       "      <td>12/13/2020 12:00:00 AM</td>\n",
       "      <td>MP</td>\n",
       "      <td>Male_Ages_65-74_yrs</td>\n",
       "      <td>1641.0</td>\n",
       "      <td>NaN</td>\n",
       "      <td>NaN</td>\n",
       "      <td>NaN</td>\n",
       "      <td>NaN</td>\n",
       "      <td>NaN</td>\n",
       "      <td>NaN</td>\n",
       "      <td>NaN</td>\n",
       "      <td>NaN</td>\n",
       "    </tr>\n",
       "  </tbody>\n",
       "</table>\n",
       "<p>1870500 rows × 12 columns</p>\n",
       "</div>"
      ],
      "text/plain": [
       "                           Date Location   Demographic_Category     census  \\\n",
       "0        12/07/2022 12:00:00 AM       SD  Female_Ages_25-39_yrs    82026.0   \n",
       "1        12/07/2022 12:00:00 AM       WI  Female_Ages_25-39_yrs   545614.0   \n",
       "2        12/07/2022 12:00:00 AM       IN             Sex_Female  3411859.0   \n",
       "3        12/07/2022 12:00:00 AM       UT             Sex_Female  1591041.0   \n",
       "4        12/07/2022 12:00:00 AM       RI    Female_Ages_65+_yrs   105649.0   \n",
       "...                         ...      ...                    ...        ...   \n",
       "1870495  12/13/2020 12:00:00 AM       VA      Female_Ages_<2yrs    96647.0   \n",
       "1870496  12/13/2020 12:00:00 AM       OK        Male_Ages_<2yrs    50289.0   \n",
       "1870497  12/13/2020 12:00:00 AM       IL        Male_Ages_<2yrs   147954.0   \n",
       "1870498  12/13/2020 12:00:00 AM       ME    Male_Ages_65-74_yrs    80965.0   \n",
       "1870499  12/13/2020 12:00:00 AM       MP    Male_Ages_65-74_yrs     1641.0   \n",
       "\n",
       "         Administered_Dose1  Series_Complete_Yes  Booster_Doses  \\\n",
       "0                   70565.0              54893.0        19864.0   \n",
       "1                  425661.0             380299.0       194014.0   \n",
       "2                 2257339.0            2040656.0      1069660.0   \n",
       "3                 1208999.0            1081849.0       556474.0   \n",
       "4                  127869.0             109840.0        89614.0   \n",
       "...                     ...                  ...            ...   \n",
       "1870495                 NaN                  NaN            NaN   \n",
       "1870496                 NaN                  NaN            NaN   \n",
       "1870497                 NaN                  NaN            NaN   \n",
       "1870498                35.0                 11.0            NaN   \n",
       "1870499                 NaN                  NaN            NaN   \n",
       "\n",
       "         Second_Booster  Administered_Dose1_pct_agegroup  \\\n",
       "0                   NaN                             86.0   \n",
       "1                   NaN                             78.0   \n",
       "2              296972.0                             66.2   \n",
       "3              135224.0                             76.0   \n",
       "4               55490.0                             95.0   \n",
       "...                 ...                              ...   \n",
       "1870495             NaN                              NaN   \n",
       "1870496             NaN                              NaN   \n",
       "1870497             NaN                              NaN   \n",
       "1870498             NaN                              0.0   \n",
       "1870499             NaN                              NaN   \n",
       "\n",
       "         Series_Complete_Pop_pct_agegroup  Booster_Doses_Vax_pct_agegroup  \\\n",
       "0                                    66.9                            36.2   \n",
       "1                                    69.7                            51.0   \n",
       "2                                    59.8                            52.5   \n",
       "3                                    68.0                            51.6   \n",
       "4                                    95.0                            81.6   \n",
       "...                                   ...                             ...   \n",
       "1870495                               NaN                             NaN   \n",
       "1870496                               NaN                             NaN   \n",
       "1870497                               NaN                             NaN   \n",
       "1870498                               0.0                             NaN   \n",
       "1870499                               NaN                             NaN   \n",
       "\n",
       "         Second_Booster_Vax_pct_agegroup  \n",
       "0                                    NaN  \n",
       "1                                    NaN  \n",
       "2                                   43.3  \n",
       "3                                   49.9  \n",
       "4                                   61.9  \n",
       "...                                  ...  \n",
       "1870495                              NaN  \n",
       "1870496                              NaN  \n",
       "1870497                              NaN  \n",
       "1870498                              NaN  \n",
       "1870499                              NaN  \n",
       "\n",
       "[1870500 rows x 12 columns]"
      ]
     },
     "execution_count": 3,
     "metadata": {},
     "output_type": "execute_result"
    }
   ],
   "source": [
    "df"
   ]
  },
  {
   "cell_type": "code",
   "execution_count": 4,
   "id": "11b03747",
   "metadata": {},
   "outputs": [
    {
     "data": {
      "text/plain": [
       "Index(['Date', 'Location', 'Demographic_Category', 'census',\n",
       "       'Administered_Dose1', 'Series_Complete_Yes', 'Booster_Doses',\n",
       "       'Second_Booster', 'Administered_Dose1_pct_agegroup',\n",
       "       'Series_Complete_Pop_pct_agegroup', 'Booster_Doses_Vax_pct_agegroup',\n",
       "       'Second_Booster_Vax_pct_agegroup'],\n",
       "      dtype='object')"
      ]
     },
     "execution_count": 4,
     "metadata": {},
     "output_type": "execute_result"
    }
   ],
   "source": [
    "#Re-inspect the columns once again\n",
    "df.columns"
   ]
  },
  {
   "cell_type": "code",
   "execution_count": 5,
   "id": "d35b012e",
   "metadata": {},
   "outputs": [
    {
     "data": {
      "text/plain": [
       "Date                                 object\n",
       "Location                             object\n",
       "Demographic_Category                 object\n",
       "census                              float64\n",
       "Administered_Dose1                  float64\n",
       "Series_Complete_Yes                 float64\n",
       "Booster_Doses                       float64\n",
       "Second_Booster                      float64\n",
       "Administered_Dose1_pct_agegroup     float64\n",
       "Series_Complete_Pop_pct_agegroup    float64\n",
       "Booster_Doses_Vax_pct_agegroup      float64\n",
       "Second_Booster_Vax_pct_agegroup     float64\n",
       "dtype: object"
      ]
     },
     "execution_count": 5,
     "metadata": {},
     "output_type": "execute_result"
    }
   ],
   "source": [
    "#Check the data types of each columns\n",
    "df.dtypes"
   ]
  },
  {
   "cell_type": "code",
   "execution_count": 6,
   "id": "bcfbf26e",
   "metadata": {},
   "outputs": [],
   "source": [
    "df['Date'] = pd.to_numeric(df['Date'],errors='coerce')"
   ]
  },
  {
   "cell_type": "code",
   "execution_count": 7,
   "id": "fdce96d3",
   "metadata": {},
   "outputs": [
    {
     "data": {
      "text/plain": [
       "Date                                1870500\n",
       "Location                                  0\n",
       "Demographic_Category                      0\n",
       "census                                87000\n",
       "Administered_Dose1                   341559\n",
       "Series_Complete_Yes                  410480\n",
       "Booster_Doses                       1003015\n",
       "Second_Booster                      1492490\n",
       "Administered_Dose1_pct_agegroup      410142\n",
       "Series_Complete_Pop_pct_agegroup     465713\n",
       "Booster_Doses_Vax_pct_agegroup      1003015\n",
       "Second_Booster_Vax_pct_agegroup     1492490\n",
       "dtype: int64"
      ]
     },
     "execution_count": 7,
     "metadata": {},
     "output_type": "execute_result"
    }
   ],
   "source": [
    "# Check if there are any missing data\n",
    "df.isna().sum()"
   ]
  },
  {
   "cell_type": "markdown",
   "id": "0cfd0ce0",
   "metadata": {},
   "source": [
    "# Modeling \n",
    "### Using the pipeline that encompasses standardscaler, polynomialfeatures, RFE and Ridge regression"
   ]
  },
  {
   "cell_type": "code",
   "execution_count": 22,
   "id": "f898f6a6",
   "metadata": {},
   "outputs": [],
   "source": [
    "df.dropna(subset = 'Series_Complete_Yes', inplace = True)"
   ]
  },
  {
   "cell_type": "code",
   "execution_count": 23,
   "id": "c48ac6ec",
   "metadata": {},
   "outputs": [],
   "source": [
    "# Selecting the features to be put into the model\n",
    "features = df[[ 'census', 'Administered_Dose1', 'Booster_Doses', 'Second_Booster',\n",
    "                       'Administered_Dose1_pct_agegroup', 'Series_Complete_Pop_pct_agegroup', 'Booster_Doses_Vax_pct_agegroup',\n",
    "                       'Second_Booster_Vax_pct_agegroup']]\n",
    "\n",
    "#Set our X (features to be considered) and y (The target column that we want to predict)\n",
    "X = features\n",
    "y = df['Series_Complete_Yes']"
   ]
  },
  {
   "cell_type": "code",
   "execution_count": 24,
   "id": "57bd7dcd",
   "metadata": {},
   "outputs": [],
   "source": [
    "pipe = Pipeline([\n",
    "    ('ss',StandardScaler()),\n",
    "    ('polynomial', PolynomialFeatures()),\n",
    "    ('rfe', RFE(Ridge())),\n",
    "    ('ridge', Ridge(max_iter=10_000))\n",
    "])"
   ]
  },
  {
   "cell_type": "code",
   "execution_count": 25,
   "id": "80b9f781",
   "metadata": {},
   "outputs": [],
   "source": [
    "# Set up the pipeline\n",
    "#pipe = make_pipeline(StandardScaler(),PolynomialFeatures(), RFE(Ridge()), Ridge(max_iter=10_000))"
   ]
  },
  {
   "cell_type": "code",
   "execution_count": 26,
   "id": "7d14307f",
   "metadata": {},
   "outputs": [],
   "source": [
    "#Train, test split\n",
    "X_train, X_test, y_train, y_test  = train_test_split(X, y, test_size=0.33, random_state=42)"
   ]
  },
  {
   "cell_type": "markdown",
   "id": "69b1309c",
   "metadata": {},
   "source": [
    "# Impute missing values"
   ]
  },
  {
   "cell_type": "code",
   "execution_count": 27,
   "id": "001595ed",
   "metadata": {},
   "outputs": [],
   "source": [
    "#Fill in the missing values in the training set\n",
    "from sklearn.impute import SimpleImputer\n",
    "my_imputer = SimpleImputer(missing_values = np.nan, strategy ='constant', fill_value=0)\n",
    " \n",
    "# Fitting the data to the imputer object\n",
    "imputed_X = my_imputer.fit_transform(X_train)\n",
    "imputed_X_test = my_imputer.transform(X_test)"
   ]
  },
  {
   "cell_type": "code",
   "execution_count": 28,
   "id": "cc50d4d0",
   "metadata": {},
   "outputs": [
    {
     "data": {
      "text/plain": [
       "(978213,)"
      ]
     },
     "execution_count": 28,
     "metadata": {},
     "output_type": "execute_result"
    }
   ],
   "source": [
    "#Check the train.shape one more time\n",
    "y_train.shape"
   ]
  },
  {
   "cell_type": "code",
   "execution_count": 29,
   "id": "9f1d6f56",
   "metadata": {},
   "outputs": [
    {
     "data": {
      "text/plain": [
       "0"
      ]
     },
     "execution_count": 29,
     "metadata": {},
     "output_type": "execute_result"
    }
   ],
   "source": [
    "np.isnan(y_train).values.sum()"
   ]
  },
  {
   "cell_type": "code",
   "execution_count": 30,
   "id": "789c5b70",
   "metadata": {},
   "outputs": [],
   "source": [
    "imputed_X = pd.DataFrame(imputed_X, columns = X_train.columns)"
   ]
  },
  {
   "cell_type": "code",
   "execution_count": 31,
   "id": "7d1e56cc",
   "metadata": {},
   "outputs": [
    {
     "data": {
      "text/plain": [
       "census                              0\n",
       "Administered_Dose1                  0\n",
       "Booster_Doses                       0\n",
       "Second_Booster                      0\n",
       "Administered_Dose1_pct_agegroup     0\n",
       "Series_Complete_Pop_pct_agegroup    0\n",
       "Booster_Doses_Vax_pct_agegroup      0\n",
       "Second_Booster_Vax_pct_agegroup     0\n",
       "dtype: int64"
      ]
     },
     "execution_count": 31,
     "metadata": {},
     "output_type": "execute_result"
    }
   ],
   "source": [
    "imputed_X.isna().sum()"
   ]
  },
  {
   "cell_type": "code",
   "execution_count": 32,
   "id": "a293d8e6",
   "metadata": {},
   "outputs": [
    {
     "data": {
      "text/html": [
       "<div>\n",
       "<style scoped>\n",
       "    .dataframe tbody tr th:only-of-type {\n",
       "        vertical-align: middle;\n",
       "    }\n",
       "\n",
       "    .dataframe tbody tr th {\n",
       "        vertical-align: top;\n",
       "    }\n",
       "\n",
       "    .dataframe thead th {\n",
       "        text-align: right;\n",
       "    }\n",
       "</style>\n",
       "<table border=\"1\" class=\"dataframe\">\n",
       "  <thead>\n",
       "    <tr style=\"text-align: right;\">\n",
       "      <th></th>\n",
       "      <th>census</th>\n",
       "      <th>Administered_Dose1</th>\n",
       "      <th>Booster_Doses</th>\n",
       "      <th>Second_Booster</th>\n",
       "      <th>Administered_Dose1_pct_agegroup</th>\n",
       "      <th>Series_Complete_Pop_pct_agegroup</th>\n",
       "      <th>Booster_Doses_Vax_pct_agegroup</th>\n",
       "      <th>Second_Booster_Vax_pct_agegroup</th>\n",
       "    </tr>\n",
       "  </thead>\n",
       "  <tbody>\n",
       "    <tr>\n",
       "      <th>count</th>\n",
       "      <td>9.782130e+05</td>\n",
       "      <td>9.782130e+05</td>\n",
       "      <td>9.782130e+05</td>\n",
       "      <td>9.782130e+05</td>\n",
       "      <td>978213.000000</td>\n",
       "      <td>978213.000000</td>\n",
       "      <td>978213.000000</td>\n",
       "      <td>978213.000000</td>\n",
       "    </tr>\n",
       "    <tr>\n",
       "      <th>mean</th>\n",
       "      <td>1.284219e+06</td>\n",
       "      <td>8.332476e+05</td>\n",
       "      <td>2.282757e+05</td>\n",
       "      <td>3.013292e+04</td>\n",
       "      <td>60.237662</td>\n",
       "      <td>52.538180</td>\n",
       "      <td>22.772254</td>\n",
       "      <td>4.814985</td>\n",
       "    </tr>\n",
       "    <tr>\n",
       "      <th>std</th>\n",
       "      <td>7.088527e+06</td>\n",
       "      <td>4.857733e+06</td>\n",
       "      <td>1.714938e+06</td>\n",
       "      <td>3.699224e+05</td>\n",
       "      <td>33.128321</td>\n",
       "      <td>32.336799</td>\n",
       "      <td>26.709765</td>\n",
       "      <td>12.627493</td>\n",
       "    </tr>\n",
       "    <tr>\n",
       "      <th>min</th>\n",
       "      <td>0.000000e+00</td>\n",
       "      <td>1.100000e+01</td>\n",
       "      <td>0.000000e+00</td>\n",
       "      <td>0.000000e+00</td>\n",
       "      <td>0.000000</td>\n",
       "      <td>0.000000</td>\n",
       "      <td>0.000000</td>\n",
       "      <td>0.000000</td>\n",
       "    </tr>\n",
       "    <tr>\n",
       "      <th>25%</th>\n",
       "      <td>7.550000e+04</td>\n",
       "      <td>2.271100e+04</td>\n",
       "      <td>0.000000e+00</td>\n",
       "      <td>0.000000e+00</td>\n",
       "      <td>35.100000</td>\n",
       "      <td>23.100000</td>\n",
       "      <td>0.000000</td>\n",
       "      <td>0.000000</td>\n",
       "    </tr>\n",
       "    <tr>\n",
       "      <th>50%</th>\n",
       "      <td>2.688600e+05</td>\n",
       "      <td>1.362890e+05</td>\n",
       "      <td>2.561000e+03</td>\n",
       "      <td>0.000000e+00</td>\n",
       "      <td>70.000000</td>\n",
       "      <td>59.900000</td>\n",
       "      <td>7.900000</td>\n",
       "      <td>0.000000</td>\n",
       "    </tr>\n",
       "    <tr>\n",
       "      <th>75%</th>\n",
       "      <td>6.874230e+05</td>\n",
       "      <td>4.453490e+05</td>\n",
       "      <td>8.866200e+04</td>\n",
       "      <td>2.700000e+01</td>\n",
       "      <td>90.600000</td>\n",
       "      <td>80.800000</td>\n",
       "      <td>44.000000</td>\n",
       "      <td>0.200000</td>\n",
       "    </tr>\n",
       "    <tr>\n",
       "      <th>max</th>\n",
       "      <td>1.685463e+08</td>\n",
       "      <td>1.383906e+08</td>\n",
       "      <td>6.266048e+07</td>\n",
       "      <td>2.109018e+07</td>\n",
       "      <td>95.000000</td>\n",
       "      <td>95.000000</td>\n",
       "      <td>91.000000</td>\n",
       "      <td>74.200000</td>\n",
       "    </tr>\n",
       "  </tbody>\n",
       "</table>\n",
       "</div>"
      ],
      "text/plain": [
       "             census  Administered_Dose1  Booster_Doses  Second_Booster  \\\n",
       "count  9.782130e+05        9.782130e+05   9.782130e+05    9.782130e+05   \n",
       "mean   1.284219e+06        8.332476e+05   2.282757e+05    3.013292e+04   \n",
       "std    7.088527e+06        4.857733e+06   1.714938e+06    3.699224e+05   \n",
       "min    0.000000e+00        1.100000e+01   0.000000e+00    0.000000e+00   \n",
       "25%    7.550000e+04        2.271100e+04   0.000000e+00    0.000000e+00   \n",
       "50%    2.688600e+05        1.362890e+05   2.561000e+03    0.000000e+00   \n",
       "75%    6.874230e+05        4.453490e+05   8.866200e+04    2.700000e+01   \n",
       "max    1.685463e+08        1.383906e+08   6.266048e+07    2.109018e+07   \n",
       "\n",
       "       Administered_Dose1_pct_agegroup  Series_Complete_Pop_pct_agegroup  \\\n",
       "count                    978213.000000                     978213.000000   \n",
       "mean                         60.237662                         52.538180   \n",
       "std                          33.128321                         32.336799   \n",
       "min                           0.000000                          0.000000   \n",
       "25%                          35.100000                         23.100000   \n",
       "50%                          70.000000                         59.900000   \n",
       "75%                          90.600000                         80.800000   \n",
       "max                          95.000000                         95.000000   \n",
       "\n",
       "       Booster_Doses_Vax_pct_agegroup  Second_Booster_Vax_pct_agegroup  \n",
       "count                   978213.000000                    978213.000000  \n",
       "mean                        22.772254                         4.814985  \n",
       "std                         26.709765                        12.627493  \n",
       "min                          0.000000                         0.000000  \n",
       "25%                          0.000000                         0.000000  \n",
       "50%                          7.900000                         0.000000  \n",
       "75%                         44.000000                         0.200000  \n",
       "max                         91.000000                        74.200000  "
      ]
     },
     "execution_count": 32,
     "metadata": {},
     "output_type": "execute_result"
    }
   ],
   "source": [
    "imputed_X.describe()"
   ]
  },
  {
   "cell_type": "markdown",
   "id": "cab87cc6",
   "metadata": {},
   "source": [
    "# Check if there are infinity values"
   ]
  },
  {
   "cell_type": "code",
   "execution_count": 33,
   "id": "7cdb30a9",
   "metadata": {},
   "outputs": [],
   "source": [
    "imputed_X = imputed_X.replace([np.inf, -np.inf], np.nan).dropna(axis=0)"
   ]
  },
  {
   "cell_type": "code",
   "execution_count": 34,
   "id": "4518c6b4",
   "metadata": {},
   "outputs": [
    {
     "data": {
      "text/plain": [
       "(481807, 8)"
      ]
     },
     "execution_count": 34,
     "metadata": {},
     "output_type": "execute_result"
    }
   ],
   "source": [
    "#Check the test.shape one more time\n",
    "imputed_X_test.shape"
   ]
  },
  {
   "cell_type": "markdown",
   "id": "7df089d8",
   "metadata": {},
   "source": [
    "# Fit the pipeline into the data"
   ]
  },
  {
   "cell_type": "code",
   "execution_count": 35,
   "id": "c8413b4b",
   "metadata": {},
   "outputs": [
    {
     "data": {
      "text/plain": [
       "Pipeline(steps=[('ss', StandardScaler()), ('polynomial', PolynomialFeatures()),\n",
       "                ('rfe', RFE(estimator=Ridge())),\n",
       "                ('ridge', Ridge(max_iter=10000))])"
      ]
     },
     "execution_count": 35,
     "metadata": {},
     "output_type": "execute_result"
    }
   ],
   "source": [
    "#Fit the pipe into our data\n",
    "pipe.fit(imputed_X, y_train)"
   ]
  },
  {
   "cell_type": "markdown",
   "id": "0a3f0c89",
   "metadata": {},
   "source": [
    "# The coefficients"
   ]
  },
  {
   "cell_type": "code",
   "execution_count": 38,
   "id": "32cb69a9",
   "metadata": {},
   "outputs": [
    {
     "data": {
      "text/plain": [
       "array([ 9.76791415e+05,  2.26401095e+06,  1.53724477e+06, -1.96768517e+05,\n",
       "        3.24847212e+05, -1.72045961e+05,  9.23959411e+02, -1.54352852e+06,\n",
       "        2.30234324e+06,  4.92324888e+04, -6.66245707e+02,  2.30503268e+04,\n",
       "       -2.37947015e+04, -1.06740581e+06,  6.44460564e+05, -7.08037673e+05,\n",
       "        1.14014438e+04, -4.78205471e+04,  5.49356768e+04, -2.16613331e+03,\n",
       "       -5.14916033e+03,  4.43383945e+03])"
      ]
     },
     "execution_count": 38,
     "metadata": {},
     "output_type": "execute_result"
    }
   ],
   "source": [
    "pipe.named_steps['ridge'].coef_"
   ]
  },
  {
   "cell_type": "markdown",
   "id": "02992c67",
   "metadata": {},
   "source": [
    "# Model Evaluation / Metrics"
   ]
  },
  {
   "cell_type": "code",
   "execution_count": 45,
   "id": "57794f43",
   "metadata": {},
   "outputs": [
    {
     "data": {
      "text/plain": [
       "0.9999964621922691"
      ]
     },
     "execution_count": 45,
     "metadata": {},
     "output_type": "execute_result"
    }
   ],
   "source": [
    "pipe.score(imputed_X, y_train)"
   ]
  },
  {
   "cell_type": "code",
   "execution_count": 47,
   "id": "4271d6ed",
   "metadata": {},
   "outputs": [
    {
     "name": "stderr",
     "output_type": "stream",
     "text": [
      "/Users/kamwingsze/opt/anaconda3/lib/python3.9/site-packages/sklearn/base.py:450: UserWarning: X does not have valid feature names, but StandardScaler was fitted with feature names\n",
      "  warnings.warn(\n"
     ]
    },
    {
     "data": {
      "text/plain": [
       "0.9999963999692836"
      ]
     },
     "execution_count": 47,
     "metadata": {},
     "output_type": "execute_result"
    }
   ],
   "source": [
    "pipe.score(imputed_X_test, y_test)"
   ]
  },
  {
   "cell_type": "code",
   "execution_count": null,
   "id": "442920c4",
   "metadata": {},
   "outputs": [],
   "source": [
    "# For every standard deviation increases in the column, the target increases by the coefficients in value. "
   ]
  },
  {
   "cell_type": "markdown",
   "id": "14d04bd4",
   "metadata": {},
   "source": [
    "# Prediction of y"
   ]
  },
  {
   "cell_type": "code",
   "execution_count": 48,
   "id": "528a75e3",
   "metadata": {},
   "outputs": [],
   "source": [
    "#y_pred = pipe.predict(imputed_X)\n",
    "y_pred = pipe.predict(imputed_X)"
   ]
  },
  {
   "cell_type": "code",
   "execution_count": 49,
   "id": "1db9f57f",
   "metadata": {},
   "outputs": [
    {
     "data": {
      "text/plain": [
       "array([274069.47193028,   4965.88553539,   4092.90534251, ...,\n",
       "        53181.86107163, 107399.47391694,    386.39395037])"
      ]
     },
     "execution_count": 49,
     "metadata": {},
     "output_type": "execute_result"
    }
   ],
   "source": [
    "y_pred"
   ]
  },
  {
   "cell_type": "markdown",
   "id": "241d53c4",
   "metadata": {},
   "source": [
    "# Dummy Regressor -> Find out the Baseline Mean Square Error"
   ]
  },
  {
   "cell_type": "code",
   "execution_count": 50,
   "id": "e13903a7",
   "metadata": {},
   "outputs": [],
   "source": [
    "from sklearn.dummy import DummyRegressor"
   ]
  },
  {
   "cell_type": "code",
   "execution_count": 52,
   "id": "1a8b1359",
   "metadata": {},
   "outputs": [],
   "source": [
    "#lr = LinearRegression().fit(imputed_X, y_train)\n",
    "lr = LinearRegression().fit(imputed_X, y_train)"
   ]
  },
  {
   "cell_type": "code",
   "execution_count": 53,
   "id": "92f118f4",
   "metadata": {},
   "outputs": [],
   "source": [
    "lr_dummy_mean = DummyRegressor(strategy = 'mean').fit(imputed_X, y_train)\n",
    " \n",
    "lr_dummy_median = DummyRegressor(strategy = 'median').fit(imputed_X, y_train)\n"
   ]
  },
  {
   "cell_type": "code",
   "execution_count": 55,
   "id": "c8480834",
   "metadata": {},
   "outputs": [
    {
     "name": "stderr",
     "output_type": "stream",
     "text": [
      "/Users/kamwingsze/opt/anaconda3/lib/python3.9/site-packages/sklearn/base.py:450: UserWarning: X does not have valid feature names, but LinearRegression was fitted with feature names\n",
      "  warnings.warn(\n"
     ]
    }
   ],
   "source": [
    "#y_predict = lr.predict(imputed_X_test)\n",
    "y_predict = lr.predict(imputed_X_test)"
   ]
  },
  {
   "cell_type": "code",
   "execution_count": 56,
   "id": "959f0859",
   "metadata": {},
   "outputs": [],
   "source": [
    "y_predict_dummy_mean = lr_dummy_mean.predict(imputed_X_test)\n",
    "y_predict_dummy_median = lr_dummy_median.predict(imputed_X_test)\n"
   ]
  },
  {
   "cell_type": "code",
   "execution_count": 57,
   "id": "3ad5af52",
   "metadata": {},
   "outputs": [
    {
     "name": "stdout",
     "output_type": "stream",
     "text": [
      "Linear model, coefficients:  [-5.38175526e-02  9.41706190e-01 -3.96130598e-02  5.16513508e-02\n",
      " -6.02510092e+03  6.38197057e+03 -1.49198670e+02 -5.39140102e+02]\n",
      "Mean squared error (dummy): 4168354.72\n"
     ]
    }
   ],
   "source": [
    "print('Linear model, coefficients: ', lr.coef_)\n",
    "print(\"Mean squared error (dummy): {:.2f}\".format(mean_squared_error(y_test, y_predict_dummy_mean, squared=False)))"
   ]
  },
  {
   "cell_type": "markdown",
   "id": "53ff2320",
   "metadata": {},
   "source": [
    "# Root Mean Squared Error of Our Pipeline"
   ]
  },
  {
   "cell_type": "code",
   "execution_count": 58,
   "id": "c11a2c7e",
   "metadata": {},
   "outputs": [
    {
     "name": "stdout",
     "output_type": "stream",
     "text": [
      "train: 7864.034843923834\n"
     ]
    },
    {
     "name": "stderr",
     "output_type": "stream",
     "text": [
      "/Users/kamwingsze/opt/anaconda3/lib/python3.9/site-packages/sklearn/base.py:450: UserWarning: X does not have valid feature names, but StandardScaler was fitted with feature names\n",
      "  warnings.warn(\n"
     ]
    },
    {
     "name": "stdout",
     "output_type": "stream",
     "text": [
      "test: 7908.930523191321\n"
     ]
    }
   ],
   "source": [
    "# Training RMSE\n",
    "print('train:', mean_squared_error(y_train, pipe.predict(imputed_X), squared=False))\n",
    "\n",
    "# Testing RMSE\n",
    "print('test:', mean_squared_error(y_test, pipe.predict(imputed_X_test), squared=False))"
   ]
  },
  {
   "cell_type": "markdown",
   "id": "f2b778d0",
   "metadata": {},
   "source": [
    "# Cross val score"
   ]
  },
  {
   "cell_type": "code",
   "execution_count": 59,
   "id": "9951b068",
   "metadata": {},
   "outputs": [
    {
     "data": {
      "text/plain": [
       "array([0.9999964 , 0.99999651, 0.99999628, 0.99999673, 0.99999628])"
      ]
     },
     "execution_count": 59,
     "metadata": {},
     "output_type": "execute_result"
    }
   ],
   "source": [
    "scores = cross_val_score(estimator=pipe, X=imputed_X, y=y_train, cv=5)\n",
    "scores"
   ]
  },
  {
   "cell_type": "code",
   "execution_count": 60,
   "id": "8ce66330",
   "metadata": {},
   "outputs": [
    {
     "data": {
      "text/plain": [
       "array([0.9999964 , 0.99999651, 0.99999628, 0.99999673, 0.99999628])"
      ]
     },
     "execution_count": 60,
     "metadata": {},
     "output_type": "execute_result"
    }
   ],
   "source": [
    "# Generting cross validated predictions \n",
    "scores[:5]"
   ]
  },
  {
   "cell_type": "code",
   "execution_count": 61,
   "id": "e21a1da8",
   "metadata": {},
   "outputs": [
    {
     "data": {
      "text/plain": [
       "1.657324108579051e-07"
      ]
     },
     "execution_count": 61,
     "metadata": {},
     "output_type": "execute_result"
    }
   ],
   "source": [
    "# get the standard deviation from cross validated testing score\n",
    "scores.std()"
   ]
  },
  {
   "cell_type": "code",
   "execution_count": 62,
   "id": "5585a083",
   "metadata": {},
   "outputs": [
    {
     "data": {
      "text/plain": [
       "0.9999964442743714"
      ]
     },
     "execution_count": 62,
     "metadata": {},
     "output_type": "execute_result"
    }
   ],
   "source": [
    "# Running cross validation on the training subset\n",
    "# cv changes the number of folds\n",
    "cross_val_score(pipe, imputed_X, y_train, cv=7).mean()"
   ]
  },
  {
   "cell_type": "markdown",
   "id": "6efd1033",
   "metadata": {},
   "source": [
    "# R2 score"
   ]
  },
  {
   "cell_type": "code",
   "execution_count": 63,
   "id": "54f36438",
   "metadata": {},
   "outputs": [
    {
     "name": "stdout",
     "output_type": "stream",
     "text": [
      "r2 score of the ridge regression:  0.9999964621922691\n",
      "mean squared error on the training:  7864.034843923834\n"
     ]
    }
   ],
   "source": [
    "from sklearn import metrics\n",
    "\n",
    "print('r2 score of the ridge regression: ',metrics.r2_score(y_train, y_pred))\n",
    "\n",
    "print('mean squared error on the training: ', metrics.mean_squared_error(y_train, y_pred,squared=False))"
   ]
  },
  {
   "cell_type": "markdown",
   "id": "e5101b9b",
   "metadata": {},
   "source": [
    "# Baseline for y"
   ]
  },
  {
   "cell_type": "code",
   "execution_count": 64,
   "id": "891566d2",
   "metadata": {},
   "outputs": [
    {
     "data": {
      "text/plain": [
       "706570.0009369735"
      ]
     },
     "execution_count": 64,
     "metadata": {},
     "output_type": "execute_result"
    }
   ],
   "source": [
    "# Baseline\n",
    "y.mean()"
   ]
  },
  {
   "cell_type": "code",
   "execution_count": null,
   "id": "6adc779f",
   "metadata": {},
   "outputs": [],
   "source": []
  },
  {
   "cell_type": "code",
   "execution_count": null,
   "id": "2b46f585",
   "metadata": {},
   "outputs": [],
   "source": []
  }
 ],
 "metadata": {
  "kernelspec": {
   "display_name": "Python 3 (ipykernel)",
   "language": "python",
   "name": "python3"
  },
  "language_info": {
   "codemirror_mode": {
    "name": "ipython",
    "version": 3
   },
   "file_extension": ".py",
   "mimetype": "text/x-python",
   "name": "python",
   "nbconvert_exporter": "python",
   "pygments_lexer": "ipython3",
   "version": "3.9.15"
  }
 },
 "nbformat": 4,
 "nbformat_minor": 5
}
