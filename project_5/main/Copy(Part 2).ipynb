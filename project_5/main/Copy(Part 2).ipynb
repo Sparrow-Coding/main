{
 "cells": [
  {
   "cell_type": "code",
   "execution_count": 1,
   "id": "f836a083",
   "metadata": {},
   "outputs": [],
   "source": [
    "import pandas as pd \n",
    "import numpy as np\n",
    "import seaborn as sns\n",
    "import matplotlib.pyplot as plt\n",
    "\n",
    "from sklearn.model_selection import train_test_split, cross_val_score\n",
    "from sklearn.linear_model import LinearRegression\n",
    "from sklearn.preprocessing import StandardScaler, PolynomialFeatures\n",
    "from xgboost import XGBRegressor \n",
    "from sklearn.tree import DecisionTreeRegressor\n",
    "from sklearn.impute import SimpleImputer\n",
    "from sklearn.preprocessing import MinMaxScaler, StandardScaler\n",
    "from sklearn.model_selection import GridSearchCV\n",
    "from sklearn.model_selection import train_test_split\n",
    "from sklearn.metrics import mean_squared_error, mean_absolute_error\n",
    "from sklearn.ensemble import BaggingRegressor, AdaBoostRegressor, RandomForestRegressor\n",
    "from sklearn.preprocessing import PolynomialFeatures\n",
    "from sklearn.feature_selection import RFE \n",
    "from sklearn.model_selection import train_test_split\n",
    "from sklearn.pipeline import make_pipeline\n",
    "from sklearn.preprocessing import StandardScaler\n",
    "from sklearn.linear_model import Lasso, LassoCV\n",
    "from sklearn.linear_model import Ridge, RidgeCV\n",
    "\n",
    "import warnings\n",
    "warnings.filterwarnings('ignore')"
   ]
  },
  {
   "cell_type": "code",
   "execution_count": 2,
   "id": "90f39099",
   "metadata": {},
   "outputs": [],
   "source": [
    "#Read in the cleaned csv\n",
    "cleaned_df = pd.read_csv('Data/df2.csv')"
   ]
  },
  {
   "cell_type": "code",
   "execution_count": 3,
   "id": "8b6bfd53",
   "metadata": {},
   "outputs": [
    {
     "data": {
      "text/html": [
       "<div>\n",
       "<style scoped>\n",
       "    .dataframe tbody tr th:only-of-type {\n",
       "        vertical-align: middle;\n",
       "    }\n",
       "\n",
       "    .dataframe tbody tr th {\n",
       "        vertical-align: top;\n",
       "    }\n",
       "\n",
       "    .dataframe thead th {\n",
       "        text-align: right;\n",
       "    }\n",
       "</style>\n",
       "<table border=\"1\" class=\"dataframe\">\n",
       "  <thead>\n",
       "    <tr style=\"text-align: right;\">\n",
       "      <th></th>\n",
       "      <th>Unnamed: 0</th>\n",
       "      <th>Date</th>\n",
       "      <th>Location</th>\n",
       "      <th>Demographic_Category</th>\n",
       "      <th>census</th>\n",
       "      <th>Not_Vaccinated</th>\n",
       "      <th>Administered_Dose1</th>\n",
       "      <th>Series_Complete_Yes</th>\n",
       "    </tr>\n",
       "  </thead>\n",
       "  <tbody>\n",
       "    <tr>\n",
       "      <th>0</th>\n",
       "      <td>0</td>\n",
       "      <td>2021-12-30</td>\n",
       "      <td>1</td>\n",
       "      <td>1</td>\n",
       "      <td>52055.0</td>\n",
       "      <td>3116.0</td>\n",
       "      <td>48939.0</td>\n",
       "      <td>42161.0</td>\n",
       "    </tr>\n",
       "    <tr>\n",
       "      <th>1</th>\n",
       "      <td>1</td>\n",
       "      <td>2021-12-30</td>\n",
       "      <td>2</td>\n",
       "      <td>1</td>\n",
       "      <td>481323.0</td>\n",
       "      <td>123150.0</td>\n",
       "      <td>358173.0</td>\n",
       "      <td>262023.0</td>\n",
       "    </tr>\n",
       "    <tr>\n",
       "      <th>2</th>\n",
       "      <td>2</td>\n",
       "      <td>2021-12-30</td>\n",
       "      <td>35</td>\n",
       "      <td>26</td>\n",
       "      <td>135005.0</td>\n",
       "      <td>103698.0</td>\n",
       "      <td>31307.0</td>\n",
       "      <td>20149.0</td>\n",
       "    </tr>\n",
       "    <tr>\n",
       "      <th>3</th>\n",
       "      <td>3</td>\n",
       "      <td>2021-12-30</td>\n",
       "      <td>36</td>\n",
       "      <td>26</td>\n",
       "      <td>133254.0</td>\n",
       "      <td>120857.0</td>\n",
       "      <td>12397.0</td>\n",
       "      <td>6750.0</td>\n",
       "    </tr>\n",
       "    <tr>\n",
       "      <th>4</th>\n",
       "      <td>4</td>\n",
       "      <td>2021-12-30</td>\n",
       "      <td>37</td>\n",
       "      <td>28</td>\n",
       "      <td>526217.0</td>\n",
       "      <td>105711.0</td>\n",
       "      <td>420506.0</td>\n",
       "      <td>358267.0</td>\n",
       "    </tr>\n",
       "    <tr>\n",
       "      <th>...</th>\n",
       "      <td>...</td>\n",
       "      <td>...</td>\n",
       "      <td>...</td>\n",
       "      <td>...</td>\n",
       "      <td>...</td>\n",
       "      <td>...</td>\n",
       "      <td>...</td>\n",
       "      <td>...</td>\n",
       "    </tr>\n",
       "    <tr>\n",
       "      <th>77395</th>\n",
       "      <td>77395</td>\n",
       "      <td>2021-12-01</td>\n",
       "      <td>45</td>\n",
       "      <td>11</td>\n",
       "      <td>10184.0</td>\n",
       "      <td>10184.0</td>\n",
       "      <td>0.0</td>\n",
       "      <td>0.0</td>\n",
       "    </tr>\n",
       "    <tr>\n",
       "      <th>77396</th>\n",
       "      <td>77396</td>\n",
       "      <td>2021-12-01</td>\n",
       "      <td>17</td>\n",
       "      <td>46</td>\n",
       "      <td>3005.0</td>\n",
       "      <td>795.0</td>\n",
       "      <td>2210.0</td>\n",
       "      <td>2075.0</td>\n",
       "    </tr>\n",
       "    <tr>\n",
       "      <th>77397</th>\n",
       "      <td>77397</td>\n",
       "      <td>2021-12-01</td>\n",
       "      <td>50</td>\n",
       "      <td>46</td>\n",
       "      <td>6524.0</td>\n",
       "      <td>1830.0</td>\n",
       "      <td>4694.0</td>\n",
       "      <td>4018.0</td>\n",
       "    </tr>\n",
       "    <tr>\n",
       "      <th>77398</th>\n",
       "      <td>77398</td>\n",
       "      <td>2021-12-01</td>\n",
       "      <td>14</td>\n",
       "      <td>9</td>\n",
       "      <td>40789796.0</td>\n",
       "      <td>8044258.0</td>\n",
       "      <td>32745538.0</td>\n",
       "      <td>29013930.0</td>\n",
       "    </tr>\n",
       "    <tr>\n",
       "      <th>77399</th>\n",
       "      <td>77399</td>\n",
       "      <td>2021-12-01</td>\n",
       "      <td>59</td>\n",
       "      <td>9</td>\n",
       "      <td>8051.0</td>\n",
       "      <td>3155.0</td>\n",
       "      <td>4896.0</td>\n",
       "      <td>4462.0</td>\n",
       "    </tr>\n",
       "  </tbody>\n",
       "</table>\n",
       "<p>77400 rows × 8 columns</p>\n",
       "</div>"
      ],
      "text/plain": [
       "       Unnamed: 0        Date  Location  Demographic_Category      census  \\\n",
       "0               0  2021-12-30         1                     1     52055.0   \n",
       "1               1  2021-12-30         2                     1    481323.0   \n",
       "2               2  2021-12-30        35                    26    135005.0   \n",
       "3               3  2021-12-30        36                    26    133254.0   \n",
       "4               4  2021-12-30        37                    28    526217.0   \n",
       "...           ...         ...       ...                   ...         ...   \n",
       "77395       77395  2021-12-01        45                    11     10184.0   \n",
       "77396       77396  2021-12-01        17                    46      3005.0   \n",
       "77397       77397  2021-12-01        50                    46      6524.0   \n",
       "77398       77398  2021-12-01        14                     9  40789796.0   \n",
       "77399       77399  2021-12-01        59                     9      8051.0   \n",
       "\n",
       "       Not_Vaccinated  Administered_Dose1  Series_Complete_Yes  \n",
       "0              3116.0             48939.0              42161.0  \n",
       "1            123150.0            358173.0             262023.0  \n",
       "2            103698.0             31307.0              20149.0  \n",
       "3            120857.0             12397.0               6750.0  \n",
       "4            105711.0            420506.0             358267.0  \n",
       "...               ...                 ...                  ...  \n",
       "77395         10184.0                 0.0                  0.0  \n",
       "77396           795.0              2210.0               2075.0  \n",
       "77397          1830.0              4694.0               4018.0  \n",
       "77398       8044258.0          32745538.0           29013930.0  \n",
       "77399          3155.0              4896.0               4462.0  \n",
       "\n",
       "[77400 rows x 8 columns]"
      ]
     },
     "execution_count": 3,
     "metadata": {},
     "output_type": "execute_result"
    }
   ],
   "source": [
    "#Inspect the columns and rows\n",
    "cleaned_df"
   ]
  },
  {
   "cell_type": "code",
   "execution_count": 4,
   "id": "e6b78d49",
   "metadata": {},
   "outputs": [],
   "source": [
    "# Drop unneccessary column\n",
    "cleaned_df.drop(['Unnamed: 0'], axis = 1, inplace = True)"
   ]
  },
  {
   "cell_type": "code",
   "execution_count": 5,
   "id": "f5e2bae8",
   "metadata": {},
   "outputs": [
    {
     "data": {
      "text/plain": [
       "Index(['Date', 'Location', 'Demographic_Category', 'census', 'Not_Vaccinated',\n",
       "       'Administered_Dose1', 'Series_Complete_Yes'],\n",
       "      dtype='object')"
      ]
     },
     "execution_count": 5,
     "metadata": {},
     "output_type": "execute_result"
    }
   ],
   "source": [
    "#Re-inspect the columns once again\n",
    "cleaned_df.columns"
   ]
  },
  {
   "cell_type": "code",
   "execution_count": 6,
   "id": "688a7011",
   "metadata": {},
   "outputs": [
    {
     "data": {
      "text/plain": [
       "Date                     object\n",
       "Location                  int64\n",
       "Demographic_Category      int64\n",
       "census                  float64\n",
       "Not_Vaccinated          float64\n",
       "Administered_Dose1      float64\n",
       "Series_Complete_Yes     float64\n",
       "dtype: object"
      ]
     },
     "execution_count": 6,
     "metadata": {},
     "output_type": "execute_result"
    }
   ],
   "source": [
    "#Check the data types of each column\n",
    "cleaned_df.dtypes"
   ]
  },
  {
   "cell_type": "code",
   "execution_count": 7,
   "id": "c31c3f1b",
   "metadata": {},
   "outputs": [],
   "source": [
    "# Transforming the Date column from object to float\n",
    "cleaned_df['Date'] = pd.to_numeric(cleaned_df['Date'],errors='coerce')"
   ]
  },
  {
   "cell_type": "code",
   "execution_count": 8,
   "id": "70946c26",
   "metadata": {},
   "outputs": [
    {
     "data": {
      "text/plain": [
       "Date                    77400\n",
       "Location                    0\n",
       "Demographic_Category        0\n",
       "census                   3600\n",
       "Not_Vaccinated           3600\n",
       "Administered_Dose1          0\n",
       "Series_Complete_Yes         0\n",
       "dtype: int64"
      ]
     },
     "execution_count": 8,
     "metadata": {},
     "output_type": "execute_result"
    }
   ],
   "source": [
    "# Check if there are any missing data\n",
    "cleaned_df.isna().sum()"
   ]
  },
  {
   "cell_type": "code",
   "execution_count": 9,
   "id": "8b85d578",
   "metadata": {},
   "outputs": [
    {
     "data": {
      "text/plain": [
       "Date                    float64\n",
       "Location                  int64\n",
       "Demographic_Category      int64\n",
       "census                  float64\n",
       "Not_Vaccinated          float64\n",
       "Administered_Dose1      float64\n",
       "Series_Complete_Yes     float64\n",
       "dtype: object"
      ]
     },
     "execution_count": 9,
     "metadata": {},
     "output_type": "execute_result"
    }
   ],
   "source": [
    "#Check the data types again\n",
    "cleaned_df.dtypes"
   ]
  },
  {
   "cell_type": "code",
   "execution_count": 10,
   "id": "8f55251a",
   "metadata": {},
   "outputs": [
    {
     "data": {
      "text/plain": [
       "(77400, 7)"
      ]
     },
     "execution_count": 10,
     "metadata": {},
     "output_type": "execute_result"
    }
   ],
   "source": [
    "#Check the shape again\n",
    "cleaned_df.shape"
   ]
  },
  {
   "cell_type": "markdown",
   "id": "2c040dc5",
   "metadata": {},
   "source": [
    "# Modeling \n",
    "### Using the pipeline that encompasses standardscaler, polynomialfeatures, RFE and Ridge regression"
   ]
  },
  {
   "cell_type": "code",
   "execution_count": 46,
   "id": "36456562",
   "metadata": {},
   "outputs": [],
   "source": [
    "# Selecting the features to be put into the model\n",
    "features = cleaned_df[['census','Location','Demographic_Category','Not_Vaccinated','Date']]\n",
    "\n",
    "#Set our X (features to be considered) and y (The target column that we want to predict)\n",
    "X = features\n",
    "y = cleaned_df['Series_Complete_Yes']"
   ]
  },
  {
   "cell_type": "code",
   "execution_count": 47,
   "id": "fa3a97ed",
   "metadata": {},
   "outputs": [],
   "source": [
    "# Set up the pipeline\n",
    "pipe = make_pipeline(StandardScaler(),PolynomialFeatures(), RFE(Ridge()), Ridge(max_iter=10_000))"
   ]
  },
  {
   "cell_type": "code",
   "execution_count": 48,
   "id": "45058986",
   "metadata": {},
   "outputs": [],
   "source": [
    "#Train, test split\n",
    "X_train, X_test, y_train, y_test  = train_test_split(X, y, test_size=0.33, random_state=42)"
   ]
  },
  {
   "cell_type": "code",
   "execution_count": 49,
   "id": "ce742e4e",
   "metadata": {},
   "outputs": [
    {
     "data": {
      "text/plain": [
       "census                  3600\n",
       "Location                   0\n",
       "Demographic_Category       0\n",
       "Not_Vaccinated             0\n",
       "Date                       0\n",
       "dtype: int64"
      ]
     },
     "execution_count": 49,
     "metadata": {},
     "output_type": "execute_result"
    }
   ],
   "source": [
    "#Double check to make sure if there are any missing values\n",
    "X.isna().sum()"
   ]
  },
  {
   "cell_type": "code",
   "execution_count": 50,
   "id": "2de4eb7c-0ff5-4600-bdd0-0855af1bd0aa",
   "metadata": {},
   "outputs": [],
   "source": [
    "cleaned_df['Not_Vaccinated'].replace({np.nan:0},inplace=True) "
   ]
  },
  {
   "cell_type": "code",
   "execution_count": 51,
   "id": "96140eec-4d6b-4aed-9ef5-2372a74ebf50",
   "metadata": {},
   "outputs": [],
   "source": [
    "cleaned_df['Date'].replace({np.nan:0},inplace=True) "
   ]
  },
  {
   "cell_type": "code",
   "execution_count": 52,
   "id": "9b4da4c7",
   "metadata": {},
   "outputs": [],
   "source": [
    "#Fill in the missing values in the training set\n",
    "my_imputer = SimpleImputer(missing_values = np.nan, strategy ='constant', fill_value=0)\n",
    " \n",
    "# Fitting the data to the imputer object\n",
    "imputed_X = my_imputer.fit_transform(X_train)\n",
    "imputed_X_test = my_imputer.transform(X_test)"
   ]
  },
  {
   "cell_type": "code",
   "execution_count": 53,
   "id": "c62c6d9c",
   "metadata": {},
   "outputs": [
    {
     "data": {
      "text/plain": [
       "0"
      ]
     },
     "execution_count": 53,
     "metadata": {},
     "output_type": "execute_result"
    }
   ],
   "source": [
    "#Double check to make sure if there are any missing values\n",
    "y.isna().sum()"
   ]
  },
  {
   "cell_type": "code",
   "execution_count": 54,
   "id": "0c1a6206",
   "metadata": {},
   "outputs": [
    {
     "data": {
      "text/plain": [
       "(51858, 5)"
      ]
     },
     "execution_count": 54,
     "metadata": {},
     "output_type": "execute_result"
    }
   ],
   "source": [
    "#Check the train.shape one more time\n",
    "imputed_X.shape"
   ]
  },
  {
   "cell_type": "code",
   "execution_count": 55,
   "id": "ff1f4ae8",
   "metadata": {},
   "outputs": [
    {
     "data": {
      "text/plain": [
       "(25542, 5)"
      ]
     },
     "execution_count": 55,
     "metadata": {},
     "output_type": "execute_result"
    }
   ],
   "source": [
    "#Check the test.shape one more time\n",
    "imputed_X_test.shape"
   ]
  },
  {
   "cell_type": "code",
   "execution_count": 56,
   "id": "ebfc8159",
   "metadata": {},
   "outputs": [
    {
     "data": {
      "text/html": [
       "<style>#sk-container-id-2 {color: black;background-color: white;}#sk-container-id-2 pre{padding: 0;}#sk-container-id-2 div.sk-toggleable {background-color: white;}#sk-container-id-2 label.sk-toggleable__label {cursor: pointer;display: block;width: 100%;margin-bottom: 0;padding: 0.3em;box-sizing: border-box;text-align: center;}#sk-container-id-2 label.sk-toggleable__label-arrow:before {content: \"▸\";float: left;margin-right: 0.25em;color: #696969;}#sk-container-id-2 label.sk-toggleable__label-arrow:hover:before {color: black;}#sk-container-id-2 div.sk-estimator:hover label.sk-toggleable__label-arrow:before {color: black;}#sk-container-id-2 div.sk-toggleable__content {max-height: 0;max-width: 0;overflow: hidden;text-align: left;background-color: #f0f8ff;}#sk-container-id-2 div.sk-toggleable__content pre {margin: 0.2em;color: black;border-radius: 0.25em;background-color: #f0f8ff;}#sk-container-id-2 input.sk-toggleable__control:checked~div.sk-toggleable__content {max-height: 200px;max-width: 100%;overflow: auto;}#sk-container-id-2 input.sk-toggleable__control:checked~label.sk-toggleable__label-arrow:before {content: \"▾\";}#sk-container-id-2 div.sk-estimator input.sk-toggleable__control:checked~label.sk-toggleable__label {background-color: #d4ebff;}#sk-container-id-2 div.sk-label input.sk-toggleable__control:checked~label.sk-toggleable__label {background-color: #d4ebff;}#sk-container-id-2 input.sk-hidden--visually {border: 0;clip: rect(1px 1px 1px 1px);clip: rect(1px, 1px, 1px, 1px);height: 1px;margin: -1px;overflow: hidden;padding: 0;position: absolute;width: 1px;}#sk-container-id-2 div.sk-estimator {font-family: monospace;background-color: #f0f8ff;border: 1px dotted black;border-radius: 0.25em;box-sizing: border-box;margin-bottom: 0.5em;}#sk-container-id-2 div.sk-estimator:hover {background-color: #d4ebff;}#sk-container-id-2 div.sk-parallel-item::after {content: \"\";width: 100%;border-bottom: 1px solid gray;flex-grow: 1;}#sk-container-id-2 div.sk-label:hover label.sk-toggleable__label {background-color: #d4ebff;}#sk-container-id-2 div.sk-serial::before {content: \"\";position: absolute;border-left: 1px solid gray;box-sizing: border-box;top: 0;bottom: 0;left: 50%;z-index: 0;}#sk-container-id-2 div.sk-serial {display: flex;flex-direction: column;align-items: center;background-color: white;padding-right: 0.2em;padding-left: 0.2em;position: relative;}#sk-container-id-2 div.sk-item {position: relative;z-index: 1;}#sk-container-id-2 div.sk-parallel {display: flex;align-items: stretch;justify-content: center;background-color: white;position: relative;}#sk-container-id-2 div.sk-item::before, #sk-container-id-2 div.sk-parallel-item::before {content: \"\";position: absolute;border-left: 1px solid gray;box-sizing: border-box;top: 0;bottom: 0;left: 50%;z-index: -1;}#sk-container-id-2 div.sk-parallel-item {display: flex;flex-direction: column;z-index: 1;position: relative;background-color: white;}#sk-container-id-2 div.sk-parallel-item:first-child::after {align-self: flex-end;width: 50%;}#sk-container-id-2 div.sk-parallel-item:last-child::after {align-self: flex-start;width: 50%;}#sk-container-id-2 div.sk-parallel-item:only-child::after {width: 0;}#sk-container-id-2 div.sk-dashed-wrapped {border: 1px dashed gray;margin: 0 0.4em 0.5em 0.4em;box-sizing: border-box;padding-bottom: 0.4em;background-color: white;}#sk-container-id-2 div.sk-label label {font-family: monospace;font-weight: bold;display: inline-block;line-height: 1.2em;}#sk-container-id-2 div.sk-label-container {text-align: center;}#sk-container-id-2 div.sk-container {/* jupyter's `normalize.less` sets `[hidden] { display: none; }` but bootstrap.min.css set `[hidden] { display: none !important; }` so we also need the `!important` here to be able to override the default hidden behavior on the sphinx rendered scikit-learn.org. See: https://github.com/scikit-learn/scikit-learn/issues/21755 */display: inline-block !important;position: relative;}#sk-container-id-2 div.sk-text-repr-fallback {display: none;}</style><div id=\"sk-container-id-2\" class=\"sk-top-container\"><div class=\"sk-text-repr-fallback\"><pre>Pipeline(steps=[(&#x27;standardscaler&#x27;, StandardScaler()),\n",
       "                (&#x27;polynomialfeatures&#x27;, PolynomialFeatures()),\n",
       "                (&#x27;rfe&#x27;, RFE(estimator=Ridge())),\n",
       "                (&#x27;ridge&#x27;, Ridge(max_iter=10000))])</pre><b>In a Jupyter environment, please rerun this cell to show the HTML representation or trust the notebook. <br />On GitHub, the HTML representation is unable to render, please try loading this page with nbviewer.org.</b></div><div class=\"sk-container\" hidden><div class=\"sk-item sk-dashed-wrapped\"><div class=\"sk-label-container\"><div class=\"sk-label sk-toggleable\"><input class=\"sk-toggleable__control sk-hidden--visually\" id=\"sk-estimator-id-8\" type=\"checkbox\" ><label for=\"sk-estimator-id-8\" class=\"sk-toggleable__label sk-toggleable__label-arrow\">Pipeline</label><div class=\"sk-toggleable__content\"><pre>Pipeline(steps=[(&#x27;standardscaler&#x27;, StandardScaler()),\n",
       "                (&#x27;polynomialfeatures&#x27;, PolynomialFeatures()),\n",
       "                (&#x27;rfe&#x27;, RFE(estimator=Ridge())),\n",
       "                (&#x27;ridge&#x27;, Ridge(max_iter=10000))])</pre></div></div></div><div class=\"sk-serial\"><div class=\"sk-item\"><div class=\"sk-estimator sk-toggleable\"><input class=\"sk-toggleable__control sk-hidden--visually\" id=\"sk-estimator-id-9\" type=\"checkbox\" ><label for=\"sk-estimator-id-9\" class=\"sk-toggleable__label sk-toggleable__label-arrow\">StandardScaler</label><div class=\"sk-toggleable__content\"><pre>StandardScaler()</pre></div></div></div><div class=\"sk-item\"><div class=\"sk-estimator sk-toggleable\"><input class=\"sk-toggleable__control sk-hidden--visually\" id=\"sk-estimator-id-10\" type=\"checkbox\" ><label for=\"sk-estimator-id-10\" class=\"sk-toggleable__label sk-toggleable__label-arrow\">PolynomialFeatures</label><div class=\"sk-toggleable__content\"><pre>PolynomialFeatures()</pre></div></div></div><div class=\"sk-item sk-dashed-wrapped\"><div class=\"sk-label-container\"><div class=\"sk-label sk-toggleable\"><input class=\"sk-toggleable__control sk-hidden--visually\" id=\"sk-estimator-id-11\" type=\"checkbox\" ><label for=\"sk-estimator-id-11\" class=\"sk-toggleable__label sk-toggleable__label-arrow\">rfe: RFE</label><div class=\"sk-toggleable__content\"><pre>RFE(estimator=Ridge())</pre></div></div></div><div class=\"sk-parallel\"><div class=\"sk-parallel-item\"><div class=\"sk-item\"><div class=\"sk-label-container\"><div class=\"sk-label sk-toggleable\"><input class=\"sk-toggleable__control sk-hidden--visually\" id=\"sk-estimator-id-12\" type=\"checkbox\" ><label for=\"sk-estimator-id-12\" class=\"sk-toggleable__label sk-toggleable__label-arrow\">estimator: Ridge</label><div class=\"sk-toggleable__content\"><pre>Ridge()</pre></div></div></div><div class=\"sk-serial\"><div class=\"sk-item\"><div class=\"sk-estimator sk-toggleable\"><input class=\"sk-toggleable__control sk-hidden--visually\" id=\"sk-estimator-id-13\" type=\"checkbox\" ><label for=\"sk-estimator-id-13\" class=\"sk-toggleable__label sk-toggleable__label-arrow\">Ridge</label><div class=\"sk-toggleable__content\"><pre>Ridge()</pre></div></div></div></div></div></div></div></div><div class=\"sk-item\"><div class=\"sk-estimator sk-toggleable\"><input class=\"sk-toggleable__control sk-hidden--visually\" id=\"sk-estimator-id-14\" type=\"checkbox\" ><label for=\"sk-estimator-id-14\" class=\"sk-toggleable__label sk-toggleable__label-arrow\">Ridge</label><div class=\"sk-toggleable__content\"><pre>Ridge(max_iter=10000)</pre></div></div></div></div></div></div></div>"
      ],
      "text/plain": [
       "Pipeline(steps=[('standardscaler', StandardScaler()),\n",
       "                ('polynomialfeatures', PolynomialFeatures()),\n",
       "                ('rfe', RFE(estimator=Ridge())),\n",
       "                ('ridge', Ridge(max_iter=10000))])"
      ]
     },
     "execution_count": 56,
     "metadata": {},
     "output_type": "execute_result"
    }
   ],
   "source": [
    "#Fit the pipe into our data\n",
    "pipe.fit(imputed_X, y_train)"
   ]
  },
  {
   "cell_type": "markdown",
   "id": "93d03ea9",
   "metadata": {},
   "source": [
    "# Model Evalaution / Metrics"
   ]
  },
  {
   "cell_type": "code",
   "execution_count": 57,
   "id": "2f1761d5",
   "metadata": {},
   "outputs": [
    {
     "data": {
      "text/plain": [
       "0.9997409821159169"
      ]
     },
     "execution_count": 57,
     "metadata": {},
     "output_type": "execute_result"
    }
   ],
   "source": [
    "# Training score\n",
    "pipe.score(imputed_X, y_train)"
   ]
  },
  {
   "cell_type": "code",
   "execution_count": 58,
   "id": "ddc5b2fb",
   "metadata": {},
   "outputs": [
    {
     "data": {
      "text/plain": [
       "0.9998066665714277"
      ]
     },
     "execution_count": 58,
     "metadata": {},
     "output_type": "execute_result"
    }
   ],
   "source": [
    "#Testing score\n",
    "pipe.score(imputed_X_test, y_test)"
   ]
  },
  {
   "cell_type": "markdown",
   "id": "bbd91e45",
   "metadata": {},
   "source": [
    "# Prediction of y"
   ]
  },
  {
   "cell_type": "code",
   "execution_count": 59,
   "id": "414a9abc",
   "metadata": {},
   "outputs": [],
   "source": [
    "y_pred = pipe.predict(imputed_X)"
   ]
  },
  {
   "cell_type": "code",
   "execution_count": 60,
   "id": "b6008c48",
   "metadata": {},
   "outputs": [
    {
     "data": {
      "text/plain": [
       "array([2.03502322e+05, 9.35516249e+04, 2.11010520e+05, 2.43546696e+05,\n",
       "       1.69372718e+03, 2.99265630e+06, 8.72223110e+03, 3.62528997e+05,\n",
       "       6.66055768e+04, 1.72340406e+05])"
      ]
     },
     "execution_count": 60,
     "metadata": {},
     "output_type": "execute_result"
    }
   ],
   "source": [
    "y_pred[:10]"
   ]
  },
  {
   "cell_type": "markdown",
   "id": "06ca75b3",
   "metadata": {},
   "source": [
    "# Dummy Regressor -> Find out the Baseline Mean Square Error"
   ]
  },
  {
   "cell_type": "code",
   "execution_count": 61,
   "id": "eba97bfa",
   "metadata": {},
   "outputs": [],
   "source": [
    "from sklearn.dummy import DummyRegressor"
   ]
  },
  {
   "cell_type": "code",
   "execution_count": 62,
   "id": "1a6608e6",
   "metadata": {},
   "outputs": [],
   "source": [
    "lr = LinearRegression().fit(imputed_X, y_train)"
   ]
  },
  {
   "cell_type": "code",
   "execution_count": 63,
   "id": "b1e43ec3",
   "metadata": {},
   "outputs": [],
   "source": [
    "lr_dummy_mean = DummyRegressor(strategy = 'mean').fit(imputed_X, y_train)\n",
    "  \n",
    "lr_dummy_median = DummyRegressor(strategy = 'median').fit(imputed_X, y_train)"
   ]
  },
  {
   "cell_type": "code",
   "execution_count": 64,
   "id": "879c25ee",
   "metadata": {},
   "outputs": [],
   "source": [
    "y_predict = lr.predict(imputed_X_test)"
   ]
  },
  {
   "cell_type": "code",
   "execution_count": 65,
   "id": "d5e81fc1",
   "metadata": {},
   "outputs": [],
   "source": [
    "y_predict_dummy_mean = lr_dummy_mean.predict(imputed_X_test)\n",
    "y_predict_dummy_median = lr_dummy_median.predict(imputed_X_test)"
   ]
  },
  {
   "cell_type": "code",
   "execution_count": 66,
   "id": "70c63d3c",
   "metadata": {},
   "outputs": [
    {
     "name": "stdout",
     "output_type": "stream",
     "text": [
      "Linear model, coefficients:  [ 0.8842284  -8.91044845 26.94832732 -0.9292501   0.        ]\n",
      "Mean squared error (dummy): 4033958.63\n"
     ]
    }
   ],
   "source": [
    "print('Linear model, coefficients: ', lr.coef_)\n",
    "print(\"Mean squared error (dummy): {:.2f}\".format(mean_squared_error(y_test, y_predict_dummy_mean, squared=False)))"
   ]
  },
  {
   "cell_type": "markdown",
   "id": "1dba6bcf",
   "metadata": {},
   "source": [
    "# Root Mean Squared Error of the Pipeline"
   ]
  },
  {
   "cell_type": "code",
   "execution_count": 67,
   "id": "e328eac6",
   "metadata": {},
   "outputs": [
    {
     "name": "stdout",
     "output_type": "stream",
     "text": [
      "train: 67150.65489625283\n",
      "test: 56089.29249179605\n"
     ]
    }
   ],
   "source": [
    "# Training RMSE\n",
    "print('train:', mean_squared_error(y_train, pipe.predict(imputed_X), squared=False))\n",
    "\n",
    "# Testing RMSE\n",
    "print('test:', mean_squared_error(y_test, pipe.predict(imputed_X_test), squared=False))"
   ]
  },
  {
   "cell_type": "markdown",
   "id": "184772a2",
   "metadata": {},
   "source": [
    "# Cross val score"
   ]
  },
  {
   "cell_type": "code",
   "execution_count": 68,
   "id": "4a6696c0",
   "metadata": {},
   "outputs": [
    {
     "data": {
      "text/plain": [
       "array([0.9997245 , 0.99978726, 0.99967498, 0.99966866, 0.9997964 ])"
      ]
     },
     "execution_count": 68,
     "metadata": {},
     "output_type": "execute_result"
    }
   ],
   "source": [
    "scores = cross_val_score(estimator=pipe, X=imputed_X, y=y_train, cv=5)\n",
    "scores"
   ]
  },
  {
   "cell_type": "code",
   "execution_count": 69,
   "id": "7cc66a27",
   "metadata": {},
   "outputs": [
    {
     "data": {
      "text/plain": [
       "array([0.9997245 , 0.99978726, 0.99967498, 0.99966866, 0.9997964 ])"
      ]
     },
     "execution_count": 69,
     "metadata": {},
     "output_type": "execute_result"
    }
   ],
   "source": [
    "# Generting cross validated predictions \n",
    "scores[:5]"
   ]
  },
  {
   "cell_type": "code",
   "execution_count": 70,
   "id": "bd72815e",
   "metadata": {},
   "outputs": [
    {
     "data": {
      "text/plain": [
       "5.386410461939648e-05"
      ]
     },
     "execution_count": 70,
     "metadata": {},
     "output_type": "execute_result"
    }
   ],
   "source": [
    "# get the standard deviation from cross validated testing score\n",
    "scores.std()"
   ]
  },
  {
   "cell_type": "code",
   "execution_count": 71,
   "id": "9ecee77e",
   "metadata": {},
   "outputs": [
    {
     "data": {
      "text/plain": [
       "0.9997144238972137"
      ]
     },
     "execution_count": 71,
     "metadata": {},
     "output_type": "execute_result"
    }
   ],
   "source": [
    "# Running cross validation on the training subset\n",
    "# cv changes the number of folds\n",
    "cross_val_score(pipe, imputed_X, y_train, cv=7).mean()"
   ]
  },
  {
   "cell_type": "markdown",
   "id": "acb953bc",
   "metadata": {},
   "source": [
    "# R2 score"
   ]
  },
  {
   "cell_type": "code",
   "execution_count": 72,
   "id": "53a86704",
   "metadata": {},
   "outputs": [
    {
     "name": "stdout",
     "output_type": "stream",
     "text": [
      "r2 score of the ridge regression:  0.9997409821159169\n",
      "mean squared error on the training:  67150.65489625283\n"
     ]
    }
   ],
   "source": [
    "from sklearn import metrics\n",
    "\n",
    "print('r2 score of the ridge regression: ',metrics.r2_score(y_train, y_pred))\n",
    "\n",
    "print('mean squared error on the training: ', metrics.mean_squared_error(y_train, y_pred,squared=False))"
   ]
  },
  {
   "cell_type": "code",
   "execution_count": null,
   "id": "914337b9",
   "metadata": {},
   "outputs": [],
   "source": []
  },
  {
   "cell_type": "markdown",
   "id": "89907611",
   "metadata": {},
   "source": [
    "# Baseline for y"
   ]
  },
  {
   "cell_type": "code",
   "execution_count": 73,
   "id": "01bea2f1",
   "metadata": {},
   "outputs": [
    {
     "data": {
      "text/plain": [
       "666125.5059302326"
      ]
     },
     "execution_count": 73,
     "metadata": {},
     "output_type": "execute_result"
    }
   ],
   "source": [
    "# Baseline\n",
    "y.mean()"
   ]
  },
  {
   "cell_type": "code",
   "execution_count": null,
   "id": "891c025d",
   "metadata": {},
   "outputs": [],
   "source": []
  }
 ],
 "metadata": {
  "kernelspec": {
   "display_name": "Python 3 (ipykernel)",
   "language": "python",
   "name": "python3"
  },
  "language_info": {
   "codemirror_mode": {
    "name": "ipython",
    "version": 3
   },
   "file_extension": ".py",
   "mimetype": "text/x-python",
   "name": "python",
   "nbconvert_exporter": "python",
   "pygments_lexer": "ipython3",
   "version": "3.9.12"
  }
 },
 "nbformat": 4,
 "nbformat_minor": 5
}
